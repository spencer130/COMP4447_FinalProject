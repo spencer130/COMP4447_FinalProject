{
 "cells": [
  {
   "cell_type": "markdown",
   "metadata": {},
   "source": [
    "# Exploring Tennis Attributes and Tournament Outcomes"
   ]
  },
  {
   "cell_type": "markdown",
   "metadata": {},
   "source": [
    "#### Authors: A.J. Madison, Robert Silber, and Spencer Tillman\n",
    "\n",
    "#### Overview: This project is exploring the attributes of tennis players and how they placed in various tournaments throughout their career."
   ]
  },
  {
   "cell_type": "markdown",
   "metadata": {},
   "source": [
    "## Literature Review\n",
    "\n",
    "Literature review"
   ]
  },
  {
   "cell_type": "markdown",
   "metadata": {},
   "source": [
    "## Project Background\n",
    "\n",
    "Information about purpose of the project"
   ]
  },
  {
   "cell_type": "markdown",
   "metadata": {},
   "source": [
    "## Environment Setup and Data Gathering\n",
    "\n"
   ]
  },
  {
   "cell_type": "code",
   "execution_count": null,
   "metadata": {},
   "outputs": [],
   "source": [
    "#If needed, get requirements.txt file for all required packages\n",
    "\n",
    "#!curl -0 https://raw.githubusercontent.com/spencer130/COMP4447_FinalProject/main/requirements.txt?token=GHSAT0AAAAAABY4YJJYIHTJ3OVAL4ADFD4KY22WJUA\n",
    "#!pip install -r requirements.txt"
   ]
  },
  {
   "cell_type": "code",
   "execution_count": 1,
   "metadata": {},
   "outputs": [],
   "source": [
    "#Import python packages\n",
    "\n",
    "import pandas as pd\n",
    "import numpy as np\n",
    "import matplotlib.pyplot as plt\n",
    "import seaborn as sns\n"
   ]
  },
  {
   "cell_type": "markdown",
   "metadata": {},
   "source": [
    "#### Next, we will be importing our data from a GitHub repository where csv files are created showing ATP tournament data annually. We will import this data directly into a pandas data frame.\n",
    "\n"
   ]
  },
  {
   "cell_type": "code",
   "execution_count": 42,
   "metadata": {},
   "outputs": [
    {
     "data": {
      "text/html": [
       "<div>\n",
       "<style scoped>\n",
       "    .dataframe tbody tr th:only-of-type {\n",
       "        vertical-align: middle;\n",
       "    }\n",
       "\n",
       "    .dataframe tbody tr th {\n",
       "        vertical-align: top;\n",
       "    }\n",
       "\n",
       "    .dataframe thead th {\n",
       "        text-align: right;\n",
       "    }\n",
       "</style>\n",
       "<table border=\"1\" class=\"dataframe\">\n",
       "  <thead>\n",
       "    <tr style=\"text-align: right;\">\n",
       "      <th></th>\n",
       "      <th>tourney_id</th>\n",
       "      <th>tourney_name</th>\n",
       "      <th>surface</th>\n",
       "      <th>draw_size</th>\n",
       "      <th>tourney_level</th>\n",
       "      <th>tourney_date</th>\n",
       "      <th>match_num</th>\n",
       "      <th>winner_id</th>\n",
       "      <th>winner_seed</th>\n",
       "      <th>winner_entry</th>\n",
       "      <th>...</th>\n",
       "      <th>l_1stWon</th>\n",
       "      <th>l_2ndWon</th>\n",
       "      <th>l_SvGms</th>\n",
       "      <th>l_bpSaved</th>\n",
       "      <th>l_bpFaced</th>\n",
       "      <th>winner_rank</th>\n",
       "      <th>winner_rank_points</th>\n",
       "      <th>loser_rank</th>\n",
       "      <th>loser_rank_points</th>\n",
       "      <th>year</th>\n",
       "    </tr>\n",
       "  </thead>\n",
       "  <tbody>\n",
       "    <tr>\n",
       "      <th>1314</th>\n",
       "      <td>1996-329</td>\n",
       "      <td>Tokyo</td>\n",
       "      <td>Hard</td>\n",
       "      <td>56</td>\n",
       "      <td>A</td>\n",
       "      <td>19960415</td>\n",
       "      <td>43</td>\n",
       "      <td>102358</td>\n",
       "      <td>3.0</td>\n",
       "      <td>NaN</td>\n",
       "      <td>...</td>\n",
       "      <td>24.0</td>\n",
       "      <td>11.0</td>\n",
       "      <td>9.0</td>\n",
       "      <td>4.0</td>\n",
       "      <td>7.0</td>\n",
       "      <td>8.0</td>\n",
       "      <td>2298.0</td>\n",
       "      <td>47.0</td>\n",
       "      <td>840.0</td>\n",
       "      <td>1996</td>\n",
       "    </tr>\n",
       "    <tr>\n",
       "      <th>6422</th>\n",
       "      <td>1995-M-SA-EGY-02A-1995b</td>\n",
       "      <td>Egypt 2 Masters 2</td>\n",
       "      <td>Clay</td>\n",
       "      <td>32</td>\n",
       "      <td>S</td>\n",
       "      <td>19950722</td>\n",
       "      <td>4</td>\n",
       "      <td>102526</td>\n",
       "      <td>7.0</td>\n",
       "      <td>NaN</td>\n",
       "      <td>...</td>\n",
       "      <td>NaN</td>\n",
       "      <td>NaN</td>\n",
       "      <td>NaN</td>\n",
       "      <td>NaN</td>\n",
       "      <td>NaN</td>\n",
       "      <td>944.0</td>\n",
       "      <td>6.0</td>\n",
       "      <td>NaN</td>\n",
       "      <td>NaN</td>\n",
       "      <td>1995</td>\n",
       "    </tr>\n",
       "    <tr>\n",
       "      <th>9119</th>\n",
       "      <td>1995-M-SA-GRE-01A-1995b</td>\n",
       "      <td>Greece Masters 2</td>\n",
       "      <td>Carpet</td>\n",
       "      <td>24</td>\n",
       "      <td>S</td>\n",
       "      <td>19950916</td>\n",
       "      <td>21</td>\n",
       "      <td>103018</td>\n",
       "      <td>1.0</td>\n",
       "      <td>NaN</td>\n",
       "      <td>...</td>\n",
       "      <td>NaN</td>\n",
       "      <td>NaN</td>\n",
       "      <td>NaN</td>\n",
       "      <td>NaN</td>\n",
       "      <td>NaN</td>\n",
       "      <td>665.0</td>\n",
       "      <td>19.0</td>\n",
       "      <td>782.0</td>\n",
       "      <td>11.0</td>\n",
       "      <td>1995</td>\n",
       "    </tr>\n",
       "    <tr>\n",
       "      <th>1376</th>\n",
       "      <td>1996-410</td>\n",
       "      <td>Monte Carlo Masters</td>\n",
       "      <td>Clay</td>\n",
       "      <td>56</td>\n",
       "      <td>M</td>\n",
       "      <td>19960422</td>\n",
       "      <td>50</td>\n",
       "      <td>101611</td>\n",
       "      <td>NaN</td>\n",
       "      <td>NaN</td>\n",
       "      <td>...</td>\n",
       "      <td>13.0</td>\n",
       "      <td>10.0</td>\n",
       "      <td>8.0</td>\n",
       "      <td>3.0</td>\n",
       "      <td>9.0</td>\n",
       "      <td>29.0</td>\n",
       "      <td>1077.0</td>\n",
       "      <td>33.0</td>\n",
       "      <td>997.0</td>\n",
       "      <td>1996</td>\n",
       "    </tr>\n",
       "    <tr>\n",
       "      <th>5597</th>\n",
       "      <td>1995-M-SA-ITA-03A-1995a</td>\n",
       "      <td>Italy 3 Masters 1</td>\n",
       "      <td>Clay</td>\n",
       "      <td>32</td>\n",
       "      <td>S</td>\n",
       "      <td>19950701</td>\n",
       "      <td>18</td>\n",
       "      <td>101876</td>\n",
       "      <td>NaN</td>\n",
       "      <td>NaN</td>\n",
       "      <td>...</td>\n",
       "      <td>NaN</td>\n",
       "      <td>NaN</td>\n",
       "      <td>NaN</td>\n",
       "      <td>NaN</td>\n",
       "      <td>NaN</td>\n",
       "      <td>355.0</td>\n",
       "      <td>83.0</td>\n",
       "      <td>397.0</td>\n",
       "      <td>68.0</td>\n",
       "      <td>1995</td>\n",
       "    </tr>\n",
       "    <tr>\n",
       "      <th>630</th>\n",
       "      <td>1996-408</td>\n",
       "      <td>Milan</td>\n",
       "      <td>Carpet</td>\n",
       "      <td>32</td>\n",
       "      <td>A</td>\n",
       "      <td>19960226</td>\n",
       "      <td>22</td>\n",
       "      <td>101964</td>\n",
       "      <td>4.0</td>\n",
       "      <td>NaN</td>\n",
       "      <td>...</td>\n",
       "      <td>18.0</td>\n",
       "      <td>11.0</td>\n",
       "      <td>9.0</td>\n",
       "      <td>0.0</td>\n",
       "      <td>4.0</td>\n",
       "      <td>6.0</td>\n",
       "      <td>2567.0</td>\n",
       "      <td>42.0</td>\n",
       "      <td>855.0</td>\n",
       "      <td>1996</td>\n",
       "    </tr>\n",
       "    <tr>\n",
       "      <th>1339</th>\n",
       "      <td>1996-410</td>\n",
       "      <td>Monte Carlo Masters</td>\n",
       "      <td>Clay</td>\n",
       "      <td>56</td>\n",
       "      <td>M</td>\n",
       "      <td>19960422</td>\n",
       "      <td>13</td>\n",
       "      <td>101320</td>\n",
       "      <td>NaN</td>\n",
       "      <td>WC</td>\n",
       "      <td>...</td>\n",
       "      <td>32.0</td>\n",
       "      <td>15.0</td>\n",
       "      <td>9.0</td>\n",
       "      <td>10.0</td>\n",
       "      <td>13.0</td>\n",
       "      <td>45.0</td>\n",
       "      <td>871.0</td>\n",
       "      <td>164.0</td>\n",
       "      <td>248.0</td>\n",
       "      <td>1996</td>\n",
       "    </tr>\n",
       "    <tr>\n",
       "      <th>8976</th>\n",
       "      <td>1995-M-SA-USA-05A-1995c</td>\n",
       "      <td>USA 5 Masters 3</td>\n",
       "      <td>Hard</td>\n",
       "      <td>48</td>\n",
       "      <td>S</td>\n",
       "      <td>19950915</td>\n",
       "      <td>19</td>\n",
       "      <td>103185</td>\n",
       "      <td>NaN</td>\n",
       "      <td>NaN</td>\n",
       "      <td>...</td>\n",
       "      <td>NaN</td>\n",
       "      <td>NaN</td>\n",
       "      <td>NaN</td>\n",
       "      <td>NaN</td>\n",
       "      <td>NaN</td>\n",
       "      <td>NaN</td>\n",
       "      <td>NaN</td>\n",
       "      <td>576.0</td>\n",
       "      <td>28.0</td>\n",
       "      <td>1995</td>\n",
       "    </tr>\n",
       "    <tr>\n",
       "      <th>6069</th>\n",
       "      <td>1995-M-SA-COL-01A-1995a</td>\n",
       "      <td>Colombia Masters 1</td>\n",
       "      <td>Clay</td>\n",
       "      <td>32</td>\n",
       "      <td>S</td>\n",
       "      <td>19950708</td>\n",
       "      <td>22</td>\n",
       "      <td>102152</td>\n",
       "      <td>3.0</td>\n",
       "      <td>NaN</td>\n",
       "      <td>...</td>\n",
       "      <td>NaN</td>\n",
       "      <td>NaN</td>\n",
       "      <td>NaN</td>\n",
       "      <td>NaN</td>\n",
       "      <td>NaN</td>\n",
       "      <td>332.0</td>\n",
       "      <td>NaN</td>\n",
       "      <td>831.0</td>\n",
       "      <td>NaN</td>\n",
       "      <td>1995</td>\n",
       "    </tr>\n",
       "    <tr>\n",
       "      <th>1259</th>\n",
       "      <td>1997-410</td>\n",
       "      <td>Monte Carlo Masters</td>\n",
       "      <td>Clay</td>\n",
       "      <td>56</td>\n",
       "      <td>M</td>\n",
       "      <td>19970421</td>\n",
       "      <td>32</td>\n",
       "      <td>102845</td>\n",
       "      <td>6.0</td>\n",
       "      <td>NaN</td>\n",
       "      <td>...</td>\n",
       "      <td>32.0</td>\n",
       "      <td>14.0</td>\n",
       "      <td>12.0</td>\n",
       "      <td>10.0</td>\n",
       "      <td>19.0</td>\n",
       "      <td>8.0</td>\n",
       "      <td>2156.0</td>\n",
       "      <td>31.0</td>\n",
       "      <td>1222.0</td>\n",
       "      <td>1997</td>\n",
       "    </tr>\n",
       "  </tbody>\n",
       "</table>\n",
       "<p>10 rows × 50 columns</p>\n",
       "</div>"
      ],
      "text/plain": [
       "                   tourney_id         tourney_name surface  draw_size  \\\n",
       "1314                 1996-329                Tokyo    Hard         56   \n",
       "6422  1995-M-SA-EGY-02A-1995b    Egypt 2 Masters 2    Clay         32   \n",
       "9119  1995-M-SA-GRE-01A-1995b     Greece Masters 2  Carpet         24   \n",
       "1376                 1996-410  Monte Carlo Masters    Clay         56   \n",
       "5597  1995-M-SA-ITA-03A-1995a    Italy 3 Masters 1    Clay         32   \n",
       "630                  1996-408                Milan  Carpet         32   \n",
       "1339                 1996-410  Monte Carlo Masters    Clay         56   \n",
       "8976  1995-M-SA-USA-05A-1995c      USA 5 Masters 3    Hard         48   \n",
       "6069  1995-M-SA-COL-01A-1995a   Colombia Masters 1    Clay         32   \n",
       "1259                 1997-410  Monte Carlo Masters    Clay         56   \n",
       "\n",
       "     tourney_level  tourney_date  match_num  winner_id  winner_seed  \\\n",
       "1314             A      19960415         43     102358          3.0   \n",
       "6422             S      19950722          4     102526          7.0   \n",
       "9119             S      19950916         21     103018          1.0   \n",
       "1376             M      19960422         50     101611          NaN   \n",
       "5597             S      19950701         18     101876          NaN   \n",
       "630              A      19960226         22     101964          4.0   \n",
       "1339             M      19960422         13     101320          NaN   \n",
       "8976             S      19950915         19     103185          NaN   \n",
       "6069             S      19950708         22     102152          3.0   \n",
       "1259             M      19970421         32     102845          6.0   \n",
       "\n",
       "     winner_entry  ... l_1stWon l_2ndWon  l_SvGms l_bpSaved  l_bpFaced  \\\n",
       "1314          NaN  ...     24.0     11.0      9.0       4.0        7.0   \n",
       "6422          NaN  ...      NaN      NaN      NaN       NaN        NaN   \n",
       "9119          NaN  ...      NaN      NaN      NaN       NaN        NaN   \n",
       "1376          NaN  ...     13.0     10.0      8.0       3.0        9.0   \n",
       "5597          NaN  ...      NaN      NaN      NaN       NaN        NaN   \n",
       "630           NaN  ...     18.0     11.0      9.0       0.0        4.0   \n",
       "1339           WC  ...     32.0     15.0      9.0      10.0       13.0   \n",
       "8976          NaN  ...      NaN      NaN      NaN       NaN        NaN   \n",
       "6069          NaN  ...      NaN      NaN      NaN       NaN        NaN   \n",
       "1259          NaN  ...     32.0     14.0     12.0      10.0       19.0   \n",
       "\n",
       "      winner_rank  winner_rank_points loser_rank loser_rank_points  year  \n",
       "1314          8.0              2298.0       47.0             840.0  1996  \n",
       "6422        944.0                 6.0        NaN               NaN  1995  \n",
       "9119        665.0                19.0      782.0              11.0  1995  \n",
       "1376         29.0              1077.0       33.0             997.0  1996  \n",
       "5597        355.0                83.0      397.0              68.0  1995  \n",
       "630           6.0              2567.0       42.0             855.0  1996  \n",
       "1339         45.0               871.0      164.0             248.0  1996  \n",
       "8976          NaN                 NaN      576.0              28.0  1995  \n",
       "6069        332.0                 NaN      831.0               NaN  1995  \n",
       "1259          8.0              2156.0       31.0            1222.0  1997  \n",
       "\n",
       "[10 rows x 50 columns]"
      ]
     },
     "execution_count": 42,
     "metadata": {},
     "output_type": "execute_result"
    }
   ],
   "source": [
    "#Retrieve data from github\n",
    "\n",
    "url_1 = 'https://raw.githubusercontent.com/JeffSackmann/tennis_atp/master/atp_matches_futures_1995.csv'\n",
    "url_2 = 'https://raw.githubusercontent.com/JeffSackmann/tennis_atp/master/atp_matches_1996.csv'\n",
    "url_3 = 'https://raw.githubusercontent.com/JeffSackmann/tennis_atp/master/atp_matches_1997.csv'\n",
    "url_4 = 'https://raw.githubusercontent.com/JeffSackmann/tennis_atp/master/atp_matches_1998.csv'\n",
    "url_5 = 'https://raw.githubusercontent.com/JeffSackmann/tennis_atp/master/atp_matches_1999.csv'\n",
    "\n",
    "tennis_1 = pd.read_csv(url_1)\n",
    "tennis_2 = pd.read_csv(url_2)\n",
    "tennis_3 = pd.read_csv(url_3)\n",
    "tennis_4 = pd.read_csv(url_4)\n",
    "tennis_5 = pd.read_csv(url_5)\n",
    "\n",
    "#Combine the data across multiple years into one data frame and add a year column\n",
    "tennis_df = pd.concat([tennis_1, tennis_2, tennis_3, tennis_4, tennis_5], join='inner')\n",
    "tennis_df['year'] = [x[:4] for x in tennis_df['tourney_id']]\n",
    "\n",
    "tennis_df.sample(10)"
   ]
  },
  {
   "cell_type": "markdown",
   "metadata": {},
   "source": [
    "## Data Cleaning\n",
    "\n",
    "#### There is a lot of data in each csv file. To begin, we will clean the data and put it into a format that is more useful for our analysis. This is necessary before we start exploring the data.\n",
    "\n",
    "#### We will start by subsetting the data to columns that will be used in the analysis. The columns we need are:\n",
    "* tourney_name: this gives us the name of the tournament\n",
    "* winner_id: this shows who won the match\n",
    "* winner_seed: this shows where the player ranked in the current tournament"
   ]
  },
  {
   "cell_type": "code",
   "execution_count": 52,
   "metadata": {},
   "outputs": [
    {
     "data": {
      "text/html": [
       "<div>\n",
       "<style scoped>\n",
       "    .dataframe tbody tr th:only-of-type {\n",
       "        vertical-align: middle;\n",
       "    }\n",
       "\n",
       "    .dataframe tbody tr th {\n",
       "        vertical-align: top;\n",
       "    }\n",
       "\n",
       "    .dataframe thead th {\n",
       "        text-align: right;\n",
       "    }\n",
       "</style>\n",
       "<table border=\"1\" class=\"dataframe\">\n",
       "  <thead>\n",
       "    <tr style=\"text-align: right;\">\n",
       "      <th></th>\n",
       "      <th>tourney_name</th>\n",
       "      <th>surface</th>\n",
       "      <th>winner_id</th>\n",
       "      <th>winner_seed</th>\n",
       "      <th>winner_rank</th>\n",
       "      <th>year</th>\n",
       "    </tr>\n",
       "  </thead>\n",
       "  <tbody>\n",
       "    <tr>\n",
       "      <th>1001</th>\n",
       "      <td>Estoril</td>\n",
       "      <td>Clay</td>\n",
       "      <td>102845</td>\n",
       "      <td>2.0</td>\n",
       "      <td>17.0</td>\n",
       "      <td>1998</td>\n",
       "    </tr>\n",
       "    <tr>\n",
       "      <th>3312</th>\n",
       "      <td>Tour Finals</td>\n",
       "      <td>Hard</td>\n",
       "      <td>101736</td>\n",
       "      <td>NaN</td>\n",
       "      <td>1.0</td>\n",
       "      <td>1999</td>\n",
       "    </tr>\n",
       "    <tr>\n",
       "      <th>1334</th>\n",
       "      <td>Davis Cup G2 R1: CIV vs EGY</td>\n",
       "      <td>Hard</td>\n",
       "      <td>102279</td>\n",
       "      <td>NaN</td>\n",
       "      <td>809.0</td>\n",
       "      <td>1998</td>\n",
       "    </tr>\n",
       "    <tr>\n",
       "      <th>1498</th>\n",
       "      <td>Mexico 1 Masters 4</td>\n",
       "      <td>Hard</td>\n",
       "      <td>101612</td>\n",
       "      <td>3.0</td>\n",
       "      <td>371.0</td>\n",
       "      <td>1995</td>\n",
       "    </tr>\n",
       "    <tr>\n",
       "      <th>1476</th>\n",
       "      <td>Hamburg Masters</td>\n",
       "      <td>Clay</td>\n",
       "      <td>103163</td>\n",
       "      <td>NaN</td>\n",
       "      <td>126.0</td>\n",
       "      <td>1997</td>\n",
       "    </tr>\n",
       "    <tr>\n",
       "      <th>158</th>\n",
       "      <td>Australian Open</td>\n",
       "      <td>Hard</td>\n",
       "      <td>102563</td>\n",
       "      <td>NaN</td>\n",
       "      <td>63.0</td>\n",
       "      <td>1997</td>\n",
       "    </tr>\n",
       "    <tr>\n",
       "      <th>343</th>\n",
       "      <td>Zagreb</td>\n",
       "      <td>Carpet</td>\n",
       "      <td>101964</td>\n",
       "      <td>1.0</td>\n",
       "      <td>10.0</td>\n",
       "      <td>1996</td>\n",
       "    </tr>\n",
       "    <tr>\n",
       "      <th>2345</th>\n",
       "      <td>Cincinnati Masters</td>\n",
       "      <td>Hard</td>\n",
       "      <td>102770</td>\n",
       "      <td>NaN</td>\n",
       "      <td>93.0</td>\n",
       "      <td>1999</td>\n",
       "    </tr>\n",
       "    <tr>\n",
       "      <th>3351</th>\n",
       "      <td>Ostrava</td>\n",
       "      <td>Carpet</td>\n",
       "      <td>102796</td>\n",
       "      <td>7.0</td>\n",
       "      <td>27.0</td>\n",
       "      <td>1997</td>\n",
       "    </tr>\n",
       "    <tr>\n",
       "      <th>1653</th>\n",
       "      <td>Coral Springs</td>\n",
       "      <td>Clay</td>\n",
       "      <td>101318</td>\n",
       "      <td>4.0</td>\n",
       "      <td>56.0</td>\n",
       "      <td>1996</td>\n",
       "    </tr>\n",
       "  </tbody>\n",
       "</table>\n",
       "</div>"
      ],
      "text/plain": [
       "                     tourney_name surface  winner_id  winner_seed  \\\n",
       "1001                      Estoril    Clay     102845          2.0   \n",
       "3312                  Tour Finals    Hard     101736          NaN   \n",
       "1334  Davis Cup G2 R1: CIV vs EGY    Hard     102279          NaN   \n",
       "1498           Mexico 1 Masters 4    Hard     101612          3.0   \n",
       "1476              Hamburg Masters    Clay     103163          NaN   \n",
       "158               Australian Open    Hard     102563          NaN   \n",
       "343                        Zagreb  Carpet     101964          1.0   \n",
       "2345           Cincinnati Masters    Hard     102770          NaN   \n",
       "3351                      Ostrava  Carpet     102796          7.0   \n",
       "1653                Coral Springs    Clay     101318          4.0   \n",
       "\n",
       "      winner_rank  year  \n",
       "1001         17.0  1998  \n",
       "3312          1.0  1999  \n",
       "1334        809.0  1998  \n",
       "1498        371.0  1995  \n",
       "1476        126.0  1997  \n",
       "158          63.0  1997  \n",
       "343          10.0  1996  \n",
       "2345         93.0  1999  \n",
       "3351         27.0  1997  \n",
       "1653         56.0  1996  "
      ]
     },
     "execution_count": 52,
     "metadata": {},
     "output_type": "execute_result"
    }
   ],
   "source": [
    "#Subset the data\n",
    "\n",
    "tennis_df_subset = tennis_df[['tourney_name', 'surface', 'winner_id', 'winner_seed', 'winner_rank', 'year']].copy()\n",
    "tennis_df_subset.sample(10)"
   ]
  },
  {
   "cell_type": "markdown",
   "metadata": {},
   "source": [
    "#### Next, we need to find and address all null values in the data. To do so, we begin with finding how many there are in the data set."
   ]
  },
  {
   "cell_type": "code",
   "execution_count": null,
   "metadata": {},
   "outputs": [],
   "source": [
    "#Count null values\n",
    "tennis_df_subset.isna().sum()"
   ]
  },
  {
   "cell_type": "markdown",
   "metadata": {},
   "source": [
    "#### We have null values in our winner seed and winner rank columns. In this instance, a null value is no rank. We will replace these nulls with zeroes to show that they do not have a rank."
   ]
  },
  {
   "cell_type": "code",
   "execution_count": 54,
   "metadata": {},
   "outputs": [
    {
     "data": {
      "text/plain": [
       "tourney_name    0\n",
       "surface         0\n",
       "winner_id       0\n",
       "winner_seed     0\n",
       "winner_rank     0\n",
       "year            0\n",
       "dtype: int64"
      ]
     },
     "execution_count": 54,
     "metadata": {},
     "output_type": "execute_result"
    }
   ],
   "source": [
    "#Replace null values with zero\n",
    "tennis_df_subset['winner_seed'] = tennis_df_subset['winner_seed'].fillna(0)\n",
    "tennis_df_subset['winner_rank'] = tennis_df_subset['winner_rank'].fillna(0)\n",
    "tennis_df_subset.isna().sum()"
   ]
  },
  {
   "cell_type": "markdown",
   "metadata": {},
   "source": [
    "####  Now that we have our data subsetted and null values are addressed, we need to check our data types to make sure they are in the correct format."
   ]
  },
  {
   "cell_type": "code",
   "execution_count": 48,
   "metadata": {},
   "outputs": [
    {
     "data": {
      "text/plain": [
       "tourney_name     object\n",
       "winner_id         int64\n",
       "winner_seed     float64\n",
       "year             object\n",
       "dtype: object"
      ]
     },
     "execution_count": 48,
     "metadata": {},
     "output_type": "execute_result"
    }
   ],
   "source": [
    "#Check the data types\n",
    "\n",
    "tennis_df_subset.dtypes"
   ]
  },
  {
   "cell_type": "markdown",
   "metadata": {},
   "source": [
    "#### Most of the data types seem good. However, our seed does not need to be a float since each seed is a whole number. We can change the data type to be more accurate."
   ]
  },
  {
   "cell_type": "code",
   "execution_count": 49,
   "metadata": {},
   "outputs": [
    {
     "data": {
      "text/plain": [
       "tourney_name    object\n",
       "winner_id        int64\n",
       "winner_seed      int64\n",
       "year            object\n",
       "dtype: object"
      ]
     },
     "execution_count": 49,
     "metadata": {},
     "output_type": "execute_result"
    }
   ],
   "source": [
    "tennis_df_subset['winner_seed'] = tennis_df_subset['winner_seed'].astype(int)\n",
    "tennis_df_subset.dtypes"
   ]
  },
  {
   "cell_type": "markdown",
   "metadata": {},
   "source": [
    "## Exploratory Data Analysis\n",
    "\n",
    "#### After cleaning our data, we can begin exploring it. We will then visualize our data to get a better understanding."
   ]
  },
  {
   "cell_type": "code",
   "execution_count": 50,
   "metadata": {},
   "outputs": [
    {
     "data": {
      "text/plain": [
       "809"
      ]
     },
     "execution_count": 50,
     "metadata": {},
     "output_type": "execute_result"
    }
   ],
   "source": [
    "#How many tournaments are in the data\n",
    "tournament_names = tennis_df_subset['tourney_name'].unique()\n",
    "len(tournament_names)\n",
    "\n",
    "#What is the range of ranks in the tournaments?\n",
    "\n",
    "\n",
    "#Wins per player\n",
    "#tennis_df['winner_id'].value_counts()\n",
    "#tennis_df_subset.pivot(index='tourney_name', columns='winner_id', values=)"
   ]
  },
  {
   "cell_type": "markdown",
   "metadata": {},
   "source": [
    "## Feature Engineering\n",
    "\n",
    "Look for any feature engineering opportunities to build on the existing data"
   ]
  },
  {
   "cell_type": "markdown",
   "metadata": {},
   "source": [
    "## Linear Regression\n",
    "\n",
    "#### Since we have completed our EDA, we will begin looking at linear regression models. To develop a model helping find player attributes that contribute or impede player performance, we will explore linear regression. To beign, let's start with simple linear regression. Our outcome variable will be "
   ]
  },
  {
   "cell_type": "markdown",
   "metadata": {},
   "source": [
    "## Conclusion\n",
    "\n",
    "Findings"
   ]
  },
  {
   "cell_type": "markdown",
   "metadata": {},
   "source": [
    "## Next Steps\n",
    "\n",
    "Any follow on analysis that could be performed"
   ]
  },
  {
   "cell_type": "markdown",
   "metadata": {},
   "source": [
    "## References\n",
    "\n",
    "#### Tennis databases, files, and algorithms by Jeff Sackmann / Tennis Abstract is licensed under a Creative Commons Attribution-NonCommercial-ShareAlike 4.0 International License.\n",
    "#### Based on a work at https://github.com/JeffSackmann."
   ]
  }
 ],
 "metadata": {
  "kernelspec": {
   "display_name": "Python 3.10.2 ('venv': venv)",
   "language": "python",
   "name": "python3"
  },
  "language_info": {
   "codemirror_mode": {
    "name": "ipython",
    "version": 3
   },
   "file_extension": ".py",
   "mimetype": "text/x-python",
   "name": "python",
   "nbconvert_exporter": "python",
   "pygments_lexer": "ipython3",
   "version": "3.10.2"
  },
  "orig_nbformat": 4,
  "vscode": {
   "interpreter": {
    "hash": "7c4da04f180b912bf7a64422c9443f071b5caede2a0311bf4f8b8871100dfad2"
   }
  }
 },
 "nbformat": 4,
 "nbformat_minor": 2
}
