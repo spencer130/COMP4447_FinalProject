{
 "cells": [
  {
   "cell_type": "markdown",
   "metadata": {},
   "source": [
    "# Exploring Tennis Attributes and Tournament Outcomes"
   ]
  },
  {
   "cell_type": "markdown",
   "metadata": {},
   "source": [
    "#### Authors: A.J. Madison, Robert Silber, and Spencer Tillman\n",
    "\n",
    "#### Overview: This project is exploring the attributes of tennis players and how they placed in various tournaments throughout their career."
   ]
  },
  {
   "cell_type": "markdown",
   "metadata": {},
   "source": [
    "## Literature Review\n",
    "\n",
    "#### Literature review"
   ]
  },
  {
   "cell_type": "markdown",
   "metadata": {},
   "source": [
    "## Project Background\n",
    "\n",
    "#### Information about purpose of the project"
   ]
  },
  {
   "cell_type": "markdown",
   "metadata": {},
   "source": [
    "## Environment Setup and Data Gathering\n",
    "\n"
   ]
  },
  {
   "cell_type": "code",
   "execution_count": null,
   "metadata": {},
   "outputs": [],
   "source": [
    "#If needed, get requirements.txt file for all required packages\n",
    "\n",
    "#!curl -0 https://raw.githubusercontent.com/spencer130/COMP4447_FinalProject/main/requirements.txt?token=GHSAT0AAAAAABY4YJJYIHTJ3OVAL4ADFD4KY22WJUA\n",
    "#!pip install -r requirements.txt"
   ]
  },
  {
   "cell_type": "code",
   "execution_count": 1,
   "metadata": {},
   "outputs": [],
   "source": [
    "#Import python packages\n",
    "\n",
    "import pandas as pd\n",
    "import numpy as np\n",
    "import matplotlib.pyplot as plt\n",
    "import seaborn as sns\n",
    "import sklearn\n",
    "import statsmodels.api as sm\n",
    "import scipy\n"
   ]
  },
  {
   "cell_type": "markdown",
   "metadata": {},
   "source": [
    "#### Next, we will be importing our data from a GitHub repository where csv files are created showing ATP tournament data annually. We will import this data directly into a pandas data frame.\n",
    "\n"
   ]
  },
  {
   "cell_type": "code",
   "execution_count": 2,
   "metadata": {},
   "outputs": [
    {
     "data": {
      "text/html": [
       "<div>\n",
       "<style scoped>\n",
       "    .dataframe tbody tr th:only-of-type {\n",
       "        vertical-align: middle;\n",
       "    }\n",
       "\n",
       "    .dataframe tbody tr th {\n",
       "        vertical-align: top;\n",
       "    }\n",
       "\n",
       "    .dataframe thead th {\n",
       "        text-align: right;\n",
       "    }\n",
       "</style>\n",
       "<table border=\"1\" class=\"dataframe\">\n",
       "  <thead>\n",
       "    <tr style=\"text-align: right;\">\n",
       "      <th></th>\n",
       "      <th>tourney_id</th>\n",
       "      <th>tourney_name</th>\n",
       "      <th>surface</th>\n",
       "      <th>draw_size</th>\n",
       "      <th>tourney_level</th>\n",
       "      <th>tourney_date</th>\n",
       "      <th>match_num</th>\n",
       "      <th>winner_id</th>\n",
       "      <th>winner_seed</th>\n",
       "      <th>winner_entry</th>\n",
       "      <th>...</th>\n",
       "      <th>l_1stWon</th>\n",
       "      <th>l_2ndWon</th>\n",
       "      <th>l_SvGms</th>\n",
       "      <th>l_bpSaved</th>\n",
       "      <th>l_bpFaced</th>\n",
       "      <th>winner_rank</th>\n",
       "      <th>winner_rank_points</th>\n",
       "      <th>loser_rank</th>\n",
       "      <th>loser_rank_points</th>\n",
       "      <th>year</th>\n",
       "    </tr>\n",
       "  </thead>\n",
       "  <tbody>\n",
       "    <tr>\n",
       "      <th>5885</th>\n",
       "      <td>1995-M-SA-USA-04A-1995b</td>\n",
       "      <td>USA 4 Masters 2</td>\n",
       "      <td>Hard</td>\n",
       "      <td>48</td>\n",
       "      <td>S</td>\n",
       "      <td>19950707</td>\n",
       "      <td>11</td>\n",
       "      <td>122867</td>\n",
       "      <td>NaN</td>\n",
       "      <td>NaN</td>\n",
       "      <td>...</td>\n",
       "      <td>NaN</td>\n",
       "      <td>NaN</td>\n",
       "      <td>NaN</td>\n",
       "      <td>NaN</td>\n",
       "      <td>NaN</td>\n",
       "      <td>1037.0</td>\n",
       "      <td>5.0</td>\n",
       "      <td>1241.0</td>\n",
       "      <td>1.0</td>\n",
       "      <td>1995</td>\n",
       "    </tr>\n",
       "    <tr>\n",
       "      <th>1812</th>\n",
       "      <td>1999-540</td>\n",
       "      <td>Wimbledon</td>\n",
       "      <td>Grass</td>\n",
       "      <td>128</td>\n",
       "      <td>G</td>\n",
       "      <td>19990621</td>\n",
       "      <td>13</td>\n",
       "      <td>102563</td>\n",
       "      <td>NaN</td>\n",
       "      <td>NaN</td>\n",
       "      <td>...</td>\n",
       "      <td>65.0</td>\n",
       "      <td>42.0</td>\n",
       "      <td>25.0</td>\n",
       "      <td>6.0</td>\n",
       "      <td>13.0</td>\n",
       "      <td>21.0</td>\n",
       "      <td>1564.0</td>\n",
       "      <td>248.0</td>\n",
       "      <td>158.0</td>\n",
       "      <td>1999</td>\n",
       "    </tr>\n",
       "    <tr>\n",
       "      <th>6882</th>\n",
       "      <td>1995-M-SA-RUS-01A-1995a</td>\n",
       "      <td>Russia Masters 1</td>\n",
       "      <td>Clay</td>\n",
       "      <td>24</td>\n",
       "      <td>S</td>\n",
       "      <td>19950729</td>\n",
       "      <td>23</td>\n",
       "      <td>101969</td>\n",
       "      <td>3.0</td>\n",
       "      <td>NaN</td>\n",
       "      <td>...</td>\n",
       "      <td>NaN</td>\n",
       "      <td>NaN</td>\n",
       "      <td>NaN</td>\n",
       "      <td>NaN</td>\n",
       "      <td>NaN</td>\n",
       "      <td>318.0</td>\n",
       "      <td>96.0</td>\n",
       "      <td>753.0</td>\n",
       "      <td>12.0</td>\n",
       "      <td>1995</td>\n",
       "    </tr>\n",
       "    <tr>\n",
       "      <th>6068</th>\n",
       "      <td>1995-M-SA-COL-01A-1995a</td>\n",
       "      <td>Colombia Masters 1</td>\n",
       "      <td>Clay</td>\n",
       "      <td>32</td>\n",
       "      <td>S</td>\n",
       "      <td>19950708</td>\n",
       "      <td>21</td>\n",
       "      <td>101167</td>\n",
       "      <td>5.0</td>\n",
       "      <td>NaN</td>\n",
       "      <td>...</td>\n",
       "      <td>NaN</td>\n",
       "      <td>NaN</td>\n",
       "      <td>NaN</td>\n",
       "      <td>NaN</td>\n",
       "      <td>NaN</td>\n",
       "      <td>649.0</td>\n",
       "      <td>NaN</td>\n",
       "      <td>924.0</td>\n",
       "      <td>NaN</td>\n",
       "      <td>1995</td>\n",
       "    </tr>\n",
       "    <tr>\n",
       "      <th>1528</th>\n",
       "      <td>1997-416</td>\n",
       "      <td>Rome Masters</td>\n",
       "      <td>Clay</td>\n",
       "      <td>64</td>\n",
       "      <td>M</td>\n",
       "      <td>19970512</td>\n",
       "      <td>4</td>\n",
       "      <td>101820</td>\n",
       "      <td>15.0</td>\n",
       "      <td>NaN</td>\n",
       "      <td>...</td>\n",
       "      <td>22.0</td>\n",
       "      <td>18.0</td>\n",
       "      <td>11.0</td>\n",
       "      <td>11.0</td>\n",
       "      <td>14.0</td>\n",
       "      <td>20.0</td>\n",
       "      <td>1533.0</td>\n",
       "      <td>108.0</td>\n",
       "      <td>431.0</td>\n",
       "      <td>1997</td>\n",
       "    </tr>\n",
       "    <tr>\n",
       "      <th>125</th>\n",
       "      <td>1996-338</td>\n",
       "      <td>Sydney Outdoor</td>\n",
       "      <td>Hard</td>\n",
       "      <td>32</td>\n",
       "      <td>A</td>\n",
       "      <td>19960108</td>\n",
       "      <td>2</td>\n",
       "      <td>102796</td>\n",
       "      <td>NaN</td>\n",
       "      <td>LL</td>\n",
       "      <td>...</td>\n",
       "      <td>30.0</td>\n",
       "      <td>28.0</td>\n",
       "      <td>15.0</td>\n",
       "      <td>2.0</td>\n",
       "      <td>4.0</td>\n",
       "      <td>168.0</td>\n",
       "      <td>247.0</td>\n",
       "      <td>81.0</td>\n",
       "      <td>574.0</td>\n",
       "      <td>1996</td>\n",
       "    </tr>\n",
       "    <tr>\n",
       "      <th>1924</th>\n",
       "      <td>1997-440</td>\n",
       "      <td>Rosmalen</td>\n",
       "      <td>Grass</td>\n",
       "      <td>32</td>\n",
       "      <td>A</td>\n",
       "      <td>19970616</td>\n",
       "      <td>5</td>\n",
       "      <td>101990</td>\n",
       "      <td>3.0</td>\n",
       "      <td>NaN</td>\n",
       "      <td>...</td>\n",
       "      <td>36.0</td>\n",
       "      <td>22.0</td>\n",
       "      <td>12.0</td>\n",
       "      <td>3.0</td>\n",
       "      <td>4.0</td>\n",
       "      <td>6.0</td>\n",
       "      <td>2431.0</td>\n",
       "      <td>60.0</td>\n",
       "      <td>798.0</td>\n",
       "      <td>1997</td>\n",
       "    </tr>\n",
       "    <tr>\n",
       "      <th>9938</th>\n",
       "      <td>1995-M-SA-FRA-05A-1995c</td>\n",
       "      <td>France 5 Masters 3</td>\n",
       "      <td>Hard</td>\n",
       "      <td>32</td>\n",
       "      <td>S</td>\n",
       "      <td>19951007</td>\n",
       "      <td>7</td>\n",
       "      <td>123093</td>\n",
       "      <td>NaN</td>\n",
       "      <td>Q</td>\n",
       "      <td>...</td>\n",
       "      <td>NaN</td>\n",
       "      <td>NaN</td>\n",
       "      <td>NaN</td>\n",
       "      <td>NaN</td>\n",
       "      <td>NaN</td>\n",
       "      <td>NaN</td>\n",
       "      <td>NaN</td>\n",
       "      <td>1003.0</td>\n",
       "      <td>6.0</td>\n",
       "      <td>1995</td>\n",
       "    </tr>\n",
       "    <tr>\n",
       "      <th>9678</th>\n",
       "      <td>1995-M-SA-MEX-04A-1995b</td>\n",
       "      <td>Mexico 4 Masters 2</td>\n",
       "      <td>Hard</td>\n",
       "      <td>32</td>\n",
       "      <td>S</td>\n",
       "      <td>19950930</td>\n",
       "      <td>8</td>\n",
       "      <td>102838</td>\n",
       "      <td>5.0</td>\n",
       "      <td>Q</td>\n",
       "      <td>...</td>\n",
       "      <td>NaN</td>\n",
       "      <td>NaN</td>\n",
       "      <td>NaN</td>\n",
       "      <td>NaN</td>\n",
       "      <td>NaN</td>\n",
       "      <td>692.0</td>\n",
       "      <td>17.0</td>\n",
       "      <td>910.0</td>\n",
       "      <td>7.0</td>\n",
       "      <td>1995</td>\n",
       "    </tr>\n",
       "    <tr>\n",
       "      <th>2690</th>\n",
       "      <td>1999-560</td>\n",
       "      <td>US Open</td>\n",
       "      <td>Hard</td>\n",
       "      <td>128</td>\n",
       "      <td>G</td>\n",
       "      <td>19990830</td>\n",
       "      <td>100</td>\n",
       "      <td>101774</td>\n",
       "      <td>7.0</td>\n",
       "      <td>NaN</td>\n",
       "      <td>...</td>\n",
       "      <td>12.0</td>\n",
       "      <td>9.0</td>\n",
       "      <td>4.0</td>\n",
       "      <td>3.0</td>\n",
       "      <td>4.0</td>\n",
       "      <td>7.0</td>\n",
       "      <td>2327.0</td>\n",
       "      <td>81.0</td>\n",
       "      <td>575.0</td>\n",
       "      <td>1999</td>\n",
       "    </tr>\n",
       "  </tbody>\n",
       "</table>\n",
       "<p>10 rows × 50 columns</p>\n",
       "</div>"
      ],
      "text/plain": [
       "                   tourney_id        tourney_name surface  draw_size  \\\n",
       "5885  1995-M-SA-USA-04A-1995b     USA 4 Masters 2    Hard         48   \n",
       "1812                 1999-540           Wimbledon   Grass        128   \n",
       "6882  1995-M-SA-RUS-01A-1995a    Russia Masters 1    Clay         24   \n",
       "6068  1995-M-SA-COL-01A-1995a  Colombia Masters 1    Clay         32   \n",
       "1528                 1997-416        Rome Masters    Clay         64   \n",
       "125                  1996-338      Sydney Outdoor    Hard         32   \n",
       "1924                 1997-440            Rosmalen   Grass         32   \n",
       "9938  1995-M-SA-FRA-05A-1995c  France 5 Masters 3    Hard         32   \n",
       "9678  1995-M-SA-MEX-04A-1995b  Mexico 4 Masters 2    Hard         32   \n",
       "2690                 1999-560             US Open    Hard        128   \n",
       "\n",
       "     tourney_level  tourney_date  match_num  winner_id  winner_seed  \\\n",
       "5885             S      19950707         11     122867          NaN   \n",
       "1812             G      19990621         13     102563          NaN   \n",
       "6882             S      19950729         23     101969          3.0   \n",
       "6068             S      19950708         21     101167          5.0   \n",
       "1528             M      19970512          4     101820         15.0   \n",
       "125              A      19960108          2     102796          NaN   \n",
       "1924             A      19970616          5     101990          3.0   \n",
       "9938             S      19951007          7     123093          NaN   \n",
       "9678             S      19950930          8     102838          5.0   \n",
       "2690             G      19990830        100     101774          7.0   \n",
       "\n",
       "     winner_entry  ... l_1stWon l_2ndWon  l_SvGms l_bpSaved  l_bpFaced  \\\n",
       "5885          NaN  ...      NaN      NaN      NaN       NaN        NaN   \n",
       "1812          NaN  ...     65.0     42.0     25.0       6.0       13.0   \n",
       "6882          NaN  ...      NaN      NaN      NaN       NaN        NaN   \n",
       "6068          NaN  ...      NaN      NaN      NaN       NaN        NaN   \n",
       "1528          NaN  ...     22.0     18.0     11.0      11.0       14.0   \n",
       "125            LL  ...     30.0     28.0     15.0       2.0        4.0   \n",
       "1924          NaN  ...     36.0     22.0     12.0       3.0        4.0   \n",
       "9938            Q  ...      NaN      NaN      NaN       NaN        NaN   \n",
       "9678            Q  ...      NaN      NaN      NaN       NaN        NaN   \n",
       "2690          NaN  ...     12.0      9.0      4.0       3.0        4.0   \n",
       "\n",
       "      winner_rank  winner_rank_points loser_rank loser_rank_points  year  \n",
       "5885       1037.0                 5.0     1241.0               1.0  1995  \n",
       "1812         21.0              1564.0      248.0             158.0  1999  \n",
       "6882        318.0                96.0      753.0              12.0  1995  \n",
       "6068        649.0                 NaN      924.0               NaN  1995  \n",
       "1528         20.0              1533.0      108.0             431.0  1997  \n",
       "125         168.0               247.0       81.0             574.0  1996  \n",
       "1924          6.0              2431.0       60.0             798.0  1997  \n",
       "9938          NaN                 NaN     1003.0               6.0  1995  \n",
       "9678        692.0                17.0      910.0               7.0  1995  \n",
       "2690          7.0              2327.0       81.0             575.0  1999  \n",
       "\n",
       "[10 rows x 50 columns]"
      ]
     },
     "execution_count": 2,
     "metadata": {},
     "output_type": "execute_result"
    }
   ],
   "source": [
    "#Retrieve data from github\n",
    "\n",
    "url_1 = 'https://raw.githubusercontent.com/JeffSackmann/tennis_atp/master/atp_matches_futures_1995.csv'\n",
    "url_2 = 'https://raw.githubusercontent.com/JeffSackmann/tennis_atp/master/atp_matches_1996.csv'\n",
    "url_3 = 'https://raw.githubusercontent.com/JeffSackmann/tennis_atp/master/atp_matches_1997.csv'\n",
    "url_4 = 'https://raw.githubusercontent.com/JeffSackmann/tennis_atp/master/atp_matches_1998.csv'\n",
    "url_5 = 'https://raw.githubusercontent.com/JeffSackmann/tennis_atp/master/atp_matches_1999.csv'\n",
    "\n",
    "tennis_1 = pd.read_csv(url_1)\n",
    "tennis_2 = pd.read_csv(url_2)\n",
    "tennis_3 = pd.read_csv(url_3)\n",
    "tennis_4 = pd.read_csv(url_4)\n",
    "tennis_5 = pd.read_csv(url_5)\n",
    "\n",
    "#Combine the data across multiple years into one data frame and add a year column\n",
    "tennis_df = pd.concat([tennis_1, tennis_2, tennis_3, tennis_4, tennis_5], join='inner')\n",
    "tennis_df['year'] = [x[:4] for x in tennis_df['tourney_id']]\n",
    "\n",
    "tennis_df.sample(10)"
   ]
  },
  {
   "cell_type": "markdown",
   "metadata": {},
   "source": [
    "## Data Cleaning\n",
    "\n",
    "#### There is a lot of data in each csv file. To begin, we will clean the data and put it into a format that is more useful for our analysis. This is necessary before we start exploring the data.\n",
    "\n",
    "#### We will start by subsetting the data to columns that will be used in the analysis. The columns we need are:\n",
    "* tourney_name: this gives us the name of the tournament\n",
    "* winner_id: this shows who won the match\n",
    "* winner_seed: this shows where the player ranked in the current tournament"
   ]
  },
  {
   "cell_type": "code",
   "execution_count": 56,
   "metadata": {},
   "outputs": [
    {
     "data": {
      "text/html": [
       "<div>\n",
       "<style scoped>\n",
       "    .dataframe tbody tr th:only-of-type {\n",
       "        vertical-align: middle;\n",
       "    }\n",
       "\n",
       "    .dataframe tbody tr th {\n",
       "        vertical-align: top;\n",
       "    }\n",
       "\n",
       "    .dataframe thead th {\n",
       "        text-align: right;\n",
       "    }\n",
       "</style>\n",
       "<table border=\"1\" class=\"dataframe\">\n",
       "  <thead>\n",
       "    <tr style=\"text-align: right;\">\n",
       "      <th></th>\n",
       "      <th>tourney_name</th>\n",
       "      <th>surface</th>\n",
       "      <th>winner_id</th>\n",
       "      <th>winner_name</th>\n",
       "      <th>winner_seed</th>\n",
       "      <th>winner_rank</th>\n",
       "      <th>winner_hand</th>\n",
       "      <th>w_ace</th>\n",
       "      <th>winner_age</th>\n",
       "      <th>loser_id</th>\n",
       "      <th>loser_name</th>\n",
       "      <th>loser_rank</th>\n",
       "      <th>loser_seed</th>\n",
       "      <th>loser_hand</th>\n",
       "      <th>l_ace</th>\n",
       "      <th>year</th>\n",
       "    </tr>\n",
       "  </thead>\n",
       "  <tbody>\n",
       "    <tr>\n",
       "      <th>2397</th>\n",
       "      <td>Germany 1 Masters 3</td>\n",
       "      <td>Clay</td>\n",
       "      <td>101892</td>\n",
       "      <td>Axel Finnberg</td>\n",
       "      <td>NaN</td>\n",
       "      <td>355.0</td>\n",
       "      <td>R</td>\n",
       "      <td>NaN</td>\n",
       "      <td>24.0</td>\n",
       "      <td>101502</td>\n",
       "      <td>Torben Theine</td>\n",
       "      <td>315.0</td>\n",
       "      <td>6.0</td>\n",
       "      <td>L</td>\n",
       "      <td>NaN</td>\n",
       "      <td>1995</td>\n",
       "    </tr>\n",
       "    <tr>\n",
       "      <th>512</th>\n",
       "      <td>San Jose</td>\n",
       "      <td>Hard</td>\n",
       "      <td>102434</td>\n",
       "      <td>Vincent Spadea</td>\n",
       "      <td>NaN</td>\n",
       "      <td>100.0</td>\n",
       "      <td>R</td>\n",
       "      <td>2.0</td>\n",
       "      <td>21.5</td>\n",
       "      <td>101196</td>\n",
       "      <td>Derrick Rostagno</td>\n",
       "      <td>112.0</td>\n",
       "      <td>NaN</td>\n",
       "      <td>R</td>\n",
       "      <td>8.0</td>\n",
       "      <td>1996</td>\n",
       "    </tr>\n",
       "    <tr>\n",
       "      <th>11532</th>\n",
       "      <td>Australia 3 Masters 1</td>\n",
       "      <td>Clay</td>\n",
       "      <td>101672</td>\n",
       "      <td>Michael Geserer</td>\n",
       "      <td>4.0</td>\n",
       "      <td>271.0</td>\n",
       "      <td>R</td>\n",
       "      <td>NaN</td>\n",
       "      <td>25.9</td>\n",
       "      <td>102691</td>\n",
       "      <td>Vince Mellino</td>\n",
       "      <td>670.0</td>\n",
       "      <td>NaN</td>\n",
       "      <td>R</td>\n",
       "      <td>NaN</td>\n",
       "      <td>1995</td>\n",
       "    </tr>\n",
       "    <tr>\n",
       "      <th>32</th>\n",
       "      <td>Doha</td>\n",
       "      <td>Hard</td>\n",
       "      <td>102247</td>\n",
       "      <td>Andrea Gaudenzi</td>\n",
       "      <td>NaN</td>\n",
       "      <td>22.0</td>\n",
       "      <td>R</td>\n",
       "      <td>2.0</td>\n",
       "      <td>22.4</td>\n",
       "      <td>102854</td>\n",
       "      <td>Sjeng Schalken</td>\n",
       "      <td>69.0</td>\n",
       "      <td>NaN</td>\n",
       "      <td>R</td>\n",
       "      <td>5.0</td>\n",
       "      <td>1996</td>\n",
       "    </tr>\n",
       "    <tr>\n",
       "      <th>867</th>\n",
       "      <td>Davis Cup G1 QF: ROU vs NOR</td>\n",
       "      <td>Hard</td>\n",
       "      <td>102318</td>\n",
       "      <td>Andrei Pavel</td>\n",
       "      <td>NaN</td>\n",
       "      <td>93.0</td>\n",
       "      <td>R</td>\n",
       "      <td>NaN</td>\n",
       "      <td>24.1</td>\n",
       "      <td>102107</td>\n",
       "      <td>Jan Frode Andersen</td>\n",
       "      <td>258.0</td>\n",
       "      <td>NaN</td>\n",
       "      <td>L</td>\n",
       "      <td>NaN</td>\n",
       "      <td>1998</td>\n",
       "    </tr>\n",
       "    <tr>\n",
       "      <th>8554</th>\n",
       "      <td>France 4 Masters 3</td>\n",
       "      <td>Hard</td>\n",
       "      <td>101600</td>\n",
       "      <td>Daniel Courcol</td>\n",
       "      <td>1.0</td>\n",
       "      <td>258.0</td>\n",
       "      <td>R</td>\n",
       "      <td>NaN</td>\n",
       "      <td>26.3</td>\n",
       "      <td>123090</td>\n",
       "      <td>Karsten Abel</td>\n",
       "      <td>1247.0</td>\n",
       "      <td>NaN</td>\n",
       "      <td>U</td>\n",
       "      <td>NaN</td>\n",
       "      <td>1995</td>\n",
       "    </tr>\n",
       "    <tr>\n",
       "      <th>585</th>\n",
       "      <td>Spain 2 Masters 1</td>\n",
       "      <td>Clay</td>\n",
       "      <td>102277</td>\n",
       "      <td>Bing Chao Lin</td>\n",
       "      <td>NaN</td>\n",
       "      <td>368.0</td>\n",
       "      <td>R</td>\n",
       "      <td>NaN</td>\n",
       "      <td>21.2</td>\n",
       "      <td>101982</td>\n",
       "      <td>Jordi Mas</td>\n",
       "      <td>353.0</td>\n",
       "      <td>NaN</td>\n",
       "      <td>R</td>\n",
       "      <td>NaN</td>\n",
       "      <td>1995</td>\n",
       "    </tr>\n",
       "    <tr>\n",
       "      <th>10260</th>\n",
       "      <td>USA 6 Masters 3</td>\n",
       "      <td>Hard</td>\n",
       "      <td>102081</td>\n",
       "      <td>Brett Hansen Dent</td>\n",
       "      <td>5.0</td>\n",
       "      <td>416.0</td>\n",
       "      <td>R</td>\n",
       "      <td>NaN</td>\n",
       "      <td>23.2</td>\n",
       "      <td>102497</td>\n",
       "      <td>Mashiska Washington</td>\n",
       "      <td>671.0</td>\n",
       "      <td>NaN</td>\n",
       "      <td>R</td>\n",
       "      <td>NaN</td>\n",
       "      <td>1995</td>\n",
       "    </tr>\n",
       "    <tr>\n",
       "      <th>55</th>\n",
       "      <td>India Masters 3</td>\n",
       "      <td>Clay</td>\n",
       "      <td>101769</td>\n",
       "      <td>Paul Ricar</td>\n",
       "      <td>NaN</td>\n",
       "      <td>820.0</td>\n",
       "      <td>R</td>\n",
       "      <td>NaN</td>\n",
       "      <td>24.4</td>\n",
       "      <td>100569</td>\n",
       "      <td>Toru Yonezawa</td>\n",
       "      <td>NaN</td>\n",
       "      <td>NaN</td>\n",
       "      <td>R</td>\n",
       "      <td>NaN</td>\n",
       "      <td>1995</td>\n",
       "    </tr>\n",
       "    <tr>\n",
       "      <th>2199</th>\n",
       "      <td>Wimbledon</td>\n",
       "      <td>Grass</td>\n",
       "      <td>101774</td>\n",
       "      <td>Todd Martin</td>\n",
       "      <td>13.0</td>\n",
       "      <td>18.0</td>\n",
       "      <td>R</td>\n",
       "      <td>9.0</td>\n",
       "      <td>25.9</td>\n",
       "      <td>101026</td>\n",
       "      <td>Jim Grabb</td>\n",
       "      <td>241.0</td>\n",
       "      <td>NaN</td>\n",
       "      <td>R</td>\n",
       "      <td>9.0</td>\n",
       "      <td>1996</td>\n",
       "    </tr>\n",
       "  </tbody>\n",
       "</table>\n",
       "</div>"
      ],
      "text/plain": [
       "                      tourney_name surface  winner_id        winner_name  \\\n",
       "2397           Germany 1 Masters 3    Clay     101892      Axel Finnberg   \n",
       "512                       San Jose    Hard     102434     Vincent Spadea   \n",
       "11532        Australia 3 Masters 1    Clay     101672    Michael Geserer   \n",
       "32                            Doha    Hard     102247    Andrea Gaudenzi   \n",
       "867    Davis Cup G1 QF: ROU vs NOR    Hard     102318       Andrei Pavel   \n",
       "8554            France 4 Masters 3    Hard     101600     Daniel Courcol   \n",
       "585              Spain 2 Masters 1    Clay     102277      Bing Chao Lin   \n",
       "10260              USA 6 Masters 3    Hard     102081  Brett Hansen Dent   \n",
       "55                 India Masters 3    Clay     101769         Paul Ricar   \n",
       "2199                     Wimbledon   Grass     101774        Todd Martin   \n",
       "\n",
       "       winner_seed  winner_rank winner_hand  w_ace  winner_age  loser_id  \\\n",
       "2397           NaN        355.0           R    NaN        24.0    101502   \n",
       "512            NaN        100.0           R    2.0        21.5    101196   \n",
       "11532          4.0        271.0           R    NaN        25.9    102691   \n",
       "32             NaN         22.0           R    2.0        22.4    102854   \n",
       "867            NaN         93.0           R    NaN        24.1    102107   \n",
       "8554           1.0        258.0           R    NaN        26.3    123090   \n",
       "585            NaN        368.0           R    NaN        21.2    101982   \n",
       "10260          5.0        416.0           R    NaN        23.2    102497   \n",
       "55             NaN        820.0           R    NaN        24.4    100569   \n",
       "2199          13.0         18.0           R    9.0        25.9    101026   \n",
       "\n",
       "                loser_name  loser_rank  loser_seed loser_hand  l_ace  year  \n",
       "2397         Torben Theine       315.0         6.0          L    NaN  1995  \n",
       "512       Derrick Rostagno       112.0         NaN          R    8.0  1996  \n",
       "11532        Vince Mellino       670.0         NaN          R    NaN  1995  \n",
       "32          Sjeng Schalken        69.0         NaN          R    5.0  1996  \n",
       "867     Jan Frode Andersen       258.0         NaN          L    NaN  1998  \n",
       "8554          Karsten Abel      1247.0         NaN          U    NaN  1995  \n",
       "585              Jordi Mas       353.0         NaN          R    NaN  1995  \n",
       "10260  Mashiska Washington       671.0         NaN          R    NaN  1995  \n",
       "55           Toru Yonezawa         NaN         NaN          R    NaN  1995  \n",
       "2199             Jim Grabb       241.0         NaN          R    9.0  1996  "
      ]
     },
     "execution_count": 56,
     "metadata": {},
     "output_type": "execute_result"
    }
   ],
   "source": [
    "#Subset the data\n",
    "\n",
    "tennis_df_subset = tennis_df[['tourney_name', 'surface', 'winner_id', 'winner_name', 'winner_seed', 'winner_rank', 'winner_hand', 'w_ace', 'winner_age', 'loser_id', 'loser_name', 'loser_rank', 'loser_seed', 'loser_hand', 'l_ace', 'year']].copy()\n",
    "tennis_df_subset.sample(10)"
   ]
  },
  {
   "cell_type": "markdown",
   "metadata": {},
   "source": [
    "#### Next, we need to find and address all null values in the data. To do so, we begin with finding how many there are in the data set."
   ]
  },
  {
   "cell_type": "code",
   "execution_count": 57,
   "metadata": {},
   "outputs": [
    {
     "data": {
      "text/plain": [
       "tourney_name        0\n",
       "surface             0\n",
       "winner_id           0\n",
       "winner_name         0\n",
       "winner_seed     15128\n",
       "winner_rank      1658\n",
       "winner_hand         0\n",
       "w_ace           13458\n",
       "winner_age        236\n",
       "loser_id            0\n",
       "loser_name          0\n",
       "loser_rank       3395\n",
       "loser_seed      20328\n",
       "loser_hand          0\n",
       "l_ace           13458\n",
       "year                0\n",
       "dtype: int64"
      ]
     },
     "execution_count": 57,
     "metadata": {},
     "output_type": "execute_result"
    }
   ],
   "source": [
    "#Count null values\n",
    "tennis_df_subset.isna().sum()"
   ]
  },
  {
   "cell_type": "markdown",
   "metadata": {},
   "source": [
    "#### We have null values in our winner seed and winner rank columns. In this instance, a null value is no rank. We will replace these nulls with zeroes to show that they do not have a rank."
   ]
  },
  {
   "cell_type": "code",
   "execution_count": 58,
   "metadata": {},
   "outputs": [
    {
     "data": {
      "text/plain": [
       "tourney_name    0\n",
       "surface         0\n",
       "winner_id       0\n",
       "winner_name     0\n",
       "winner_seed     0\n",
       "winner_rank     0\n",
       "winner_hand     0\n",
       "w_ace           0\n",
       "winner_age      0\n",
       "loser_id        0\n",
       "loser_name      0\n",
       "loser_rank      0\n",
       "loser_seed      0\n",
       "loser_hand      0\n",
       "l_ace           0\n",
       "year            0\n",
       "dtype: int64"
      ]
     },
     "execution_count": 58,
     "metadata": {},
     "output_type": "execute_result"
    }
   ],
   "source": [
    "#Replace null values with zero\n",
    "tennis_df_subset['winner_seed'] = tennis_df_subset['winner_seed'].fillna(0)\n",
    "tennis_df_subset['winner_rank'] = tennis_df_subset['winner_rank'].fillna(0)\n",
    "tennis_df_subset['loser_rank'] = tennis_df_subset['loser_rank'].fillna(0)\n",
    "tennis_df_subset['loser_seed'] = tennis_df_subset['loser_seed'].fillna(0)\n",
    "tennis_df_subset['w_ace'] = tennis_df_subset['w_ace'].fillna(999)\n",
    "tennis_df_subset['l_ace'] = tennis_df_subset['l_ace'].fillna(999)\n",
    "tennis_df_subset['winner_age'] = tennis_df_subset['winner_age'].fillna(0)\n",
    "tennis_df_subset.isna().sum()"
   ]
  },
  {
   "cell_type": "markdown",
   "metadata": {},
   "source": [
    "####  Now that we have our data subsetted and null values are addressed, we need to check our data types to make sure they are in the correct format."
   ]
  },
  {
   "cell_type": "code",
   "execution_count": 59,
   "metadata": {},
   "outputs": [
    {
     "data": {
      "text/plain": [
       "tourney_name     object\n",
       "surface          object\n",
       "winner_id         int64\n",
       "winner_name      object\n",
       "winner_seed     float64\n",
       "winner_rank     float64\n",
       "winner_hand      object\n",
       "w_ace           float64\n",
       "winner_age      float64\n",
       "loser_id          int64\n",
       "loser_name       object\n",
       "loser_rank      float64\n",
       "loser_seed      float64\n",
       "loser_hand       object\n",
       "l_ace           float64\n",
       "year             object\n",
       "dtype: object"
      ]
     },
     "execution_count": 59,
     "metadata": {},
     "output_type": "execute_result"
    }
   ],
   "source": [
    "#Check the data types\n",
    "\n",
    "tennis_df_subset.dtypes"
   ]
  },
  {
   "cell_type": "markdown",
   "metadata": {},
   "source": [
    "#### Most of the data types seem good. However, our year should be changed to datetime. We can change the data types to be more accurate."
   ]
  },
  {
   "cell_type": "code",
   "execution_count": 60,
   "metadata": {},
   "outputs": [
    {
     "data": {
      "text/plain": [
       "tourney_name     object\n",
       "surface          object\n",
       "winner_id         int64\n",
       "winner_name      object\n",
       "winner_seed     float64\n",
       "winner_rank     float64\n",
       "winner_hand      object\n",
       "w_ace           float64\n",
       "winner_age      float64\n",
       "loser_id          int64\n",
       "loser_name       object\n",
       "loser_rank      float64\n",
       "loser_seed      float64\n",
       "loser_hand       object\n",
       "l_ace           float64\n",
       "year              int64\n",
       "dtype: object"
      ]
     },
     "execution_count": 60,
     "metadata": {},
     "output_type": "execute_result"
    }
   ],
   "source": [
    "tennis_df_subset['year'] = pd.to_numeric(tennis_df_subset['year'])\n",
    "tennis_df_subset.dtypes"
   ]
  },
  {
   "cell_type": "markdown",
   "metadata": {},
   "source": [
    "#### Updating ages to be round numbers"
   ]
  },
  {
   "cell_type": "code",
   "execution_count": 61,
   "metadata": {},
   "outputs": [
    {
     "data": {
      "text/html": [
       "<div>\n",
       "<style scoped>\n",
       "    .dataframe tbody tr th:only-of-type {\n",
       "        vertical-align: middle;\n",
       "    }\n",
       "\n",
       "    .dataframe tbody tr th {\n",
       "        vertical-align: top;\n",
       "    }\n",
       "\n",
       "    .dataframe thead th {\n",
       "        text-align: right;\n",
       "    }\n",
       "</style>\n",
       "<table border=\"1\" class=\"dataframe\">\n",
       "  <thead>\n",
       "    <tr style=\"text-align: right;\">\n",
       "      <th></th>\n",
       "      <th>tourney_name</th>\n",
       "      <th>surface</th>\n",
       "      <th>winner_id</th>\n",
       "      <th>winner_name</th>\n",
       "      <th>winner_seed</th>\n",
       "      <th>winner_rank</th>\n",
       "      <th>winner_hand</th>\n",
       "      <th>w_ace</th>\n",
       "      <th>winner_age</th>\n",
       "      <th>loser_id</th>\n",
       "      <th>loser_name</th>\n",
       "      <th>loser_rank</th>\n",
       "      <th>loser_seed</th>\n",
       "      <th>loser_hand</th>\n",
       "      <th>l_ace</th>\n",
       "      <th>year</th>\n",
       "    </tr>\n",
       "  </thead>\n",
       "  <tbody>\n",
       "    <tr>\n",
       "      <th>0</th>\n",
       "      <td>India Masters 1</td>\n",
       "      <td>Clay</td>\n",
       "      <td>102012</td>\n",
       "      <td>Martijn Belgraver</td>\n",
       "      <td>0.0</td>\n",
       "      <td>673.0</td>\n",
       "      <td>R</td>\n",
       "      <td>999.0</td>\n",
       "      <td>23</td>\n",
       "      <td>102535</td>\n",
       "      <td>Harold Jans</td>\n",
       "      <td>1197.0</td>\n",
       "      <td>0.0</td>\n",
       "      <td>R</td>\n",
       "      <td>999.0</td>\n",
       "      <td>1995</td>\n",
       "    </tr>\n",
       "    <tr>\n",
       "      <th>1</th>\n",
       "      <td>India Masters 1</td>\n",
       "      <td>Clay</td>\n",
       "      <td>101810</td>\n",
       "      <td>Asif Ismail</td>\n",
       "      <td>0.0</td>\n",
       "      <td>973.0</td>\n",
       "      <td>R</td>\n",
       "      <td>999.0</td>\n",
       "      <td>24</td>\n",
       "      <td>102165</td>\n",
       "      <td>Srinath Prahlad</td>\n",
       "      <td>1198.0</td>\n",
       "      <td>0.0</td>\n",
       "      <td>R</td>\n",
       "      <td>999.0</td>\n",
       "      <td>1995</td>\n",
       "    </tr>\n",
       "    <tr>\n",
       "      <th>2</th>\n",
       "      <td>India Masters 1</td>\n",
       "      <td>Clay</td>\n",
       "      <td>102407</td>\n",
       "      <td>Rainer Gunther</td>\n",
       "      <td>0.0</td>\n",
       "      <td>922.0</td>\n",
       "      <td>R</td>\n",
       "      <td>999.0</td>\n",
       "      <td>20</td>\n",
       "      <td>101884</td>\n",
       "      <td>Frank Ofori</td>\n",
       "      <td>337.0</td>\n",
       "      <td>0.0</td>\n",
       "      <td>R</td>\n",
       "      <td>999.0</td>\n",
       "      <td>1995</td>\n",
       "    </tr>\n",
       "    <tr>\n",
       "      <th>3</th>\n",
       "      <td>India Masters 1</td>\n",
       "      <td>Clay</td>\n",
       "      <td>102213</td>\n",
       "      <td>Jong Sam Chung</td>\n",
       "      <td>0.0</td>\n",
       "      <td>736.0</td>\n",
       "      <td>R</td>\n",
       "      <td>999.0</td>\n",
       "      <td>22</td>\n",
       "      <td>102316</td>\n",
       "      <td>Jong Woong Yoon</td>\n",
       "      <td>674.0</td>\n",
       "      <td>0.0</td>\n",
       "      <td>R</td>\n",
       "      <td>999.0</td>\n",
       "      <td>1995</td>\n",
       "    </tr>\n",
       "    <tr>\n",
       "      <th>4</th>\n",
       "      <td>India Masters 1</td>\n",
       "      <td>Clay</td>\n",
       "      <td>102276</td>\n",
       "      <td>Sandeep Kirtane</td>\n",
       "      <td>0.0</td>\n",
       "      <td>1021.0</td>\n",
       "      <td>R</td>\n",
       "      <td>999.0</td>\n",
       "      <td>21</td>\n",
       "      <td>101904</td>\n",
       "      <td>Chris Haggard</td>\n",
       "      <td>438.0</td>\n",
       "      <td>0.0</td>\n",
       "      <td>L</td>\n",
       "      <td>999.0</td>\n",
       "      <td>1995</td>\n",
       "    </tr>\n",
       "    <tr>\n",
       "      <th>...</th>\n",
       "      <td>...</td>\n",
       "      <td>...</td>\n",
       "      <td>...</td>\n",
       "      <td>...</td>\n",
       "      <td>...</td>\n",
       "      <td>...</td>\n",
       "      <td>...</td>\n",
       "      <td>...</td>\n",
       "      <td>...</td>\n",
       "      <td>...</td>\n",
       "      <td>...</td>\n",
       "      <td>...</td>\n",
       "      <td>...</td>\n",
       "      <td>...</td>\n",
       "      <td>...</td>\n",
       "      <td>...</td>\n",
       "    </tr>\n",
       "    <tr>\n",
       "      <th>3329</th>\n",
       "      <td>Dusseldorf</td>\n",
       "      <td>Clay</td>\n",
       "      <td>102374</td>\n",
       "      <td>Alex Corretja</td>\n",
       "      <td>0.0</td>\n",
       "      <td>6.0</td>\n",
       "      <td>R</td>\n",
       "      <td>999.0</td>\n",
       "      <td>25</td>\n",
       "      <td>103017</td>\n",
       "      <td>Nicolas Kiefer</td>\n",
       "      <td>21.0</td>\n",
       "      <td>0.0</td>\n",
       "      <td>R</td>\n",
       "      <td>999.0</td>\n",
       "      <td>1999</td>\n",
       "    </tr>\n",
       "    <tr>\n",
       "      <th>3330</th>\n",
       "      <td>Dusseldorf</td>\n",
       "      <td>Clay</td>\n",
       "      <td>102845</td>\n",
       "      <td>Carlos Moya</td>\n",
       "      <td>0.0</td>\n",
       "      <td>4.0</td>\n",
       "      <td>R</td>\n",
       "      <td>999.0</td>\n",
       "      <td>23</td>\n",
       "      <td>103163</td>\n",
       "      <td>Tommy Haas</td>\n",
       "      <td>19.0</td>\n",
       "      <td>0.0</td>\n",
       "      <td>R</td>\n",
       "      <td>999.0</td>\n",
       "      <td>1999</td>\n",
       "    </tr>\n",
       "    <tr>\n",
       "      <th>3331</th>\n",
       "      <td>Dusseldorf</td>\n",
       "      <td>Clay</td>\n",
       "      <td>102358</td>\n",
       "      <td>Thomas Enqvist</td>\n",
       "      <td>0.0</td>\n",
       "      <td>17.0</td>\n",
       "      <td>R</td>\n",
       "      <td>999.0</td>\n",
       "      <td>25</td>\n",
       "      <td>103163</td>\n",
       "      <td>Tommy Haas</td>\n",
       "      <td>19.0</td>\n",
       "      <td>0.0</td>\n",
       "      <td>R</td>\n",
       "      <td>999.0</td>\n",
       "      <td>1999</td>\n",
       "    </tr>\n",
       "    <tr>\n",
       "      <th>3332</th>\n",
       "      <td>Dusseldorf</td>\n",
       "      <td>Clay</td>\n",
       "      <td>103017</td>\n",
       "      <td>Nicolas Kiefer</td>\n",
       "      <td>0.0</td>\n",
       "      <td>21.0</td>\n",
       "      <td>R</td>\n",
       "      <td>999.0</td>\n",
       "      <td>22</td>\n",
       "      <td>102563</td>\n",
       "      <td>Thomas Johansson</td>\n",
       "      <td>18.0</td>\n",
       "      <td>0.0</td>\n",
       "      <td>R</td>\n",
       "      <td>999.0</td>\n",
       "      <td>1999</td>\n",
       "    </tr>\n",
       "    <tr>\n",
       "      <th>3333</th>\n",
       "      <td>Dusseldorf</td>\n",
       "      <td>Clay</td>\n",
       "      <td>103163</td>\n",
       "      <td>Tommy Haas</td>\n",
       "      <td>0.0</td>\n",
       "      <td>19.0</td>\n",
       "      <td>R</td>\n",
       "      <td>999.0</td>\n",
       "      <td>21</td>\n",
       "      <td>102450</td>\n",
       "      <td>Tim Henman</td>\n",
       "      <td>7.0</td>\n",
       "      <td>0.0</td>\n",
       "      <td>R</td>\n",
       "      <td>999.0</td>\n",
       "      <td>1999</td>\n",
       "    </tr>\n",
       "  </tbody>\n",
       "</table>\n",
       "<p>26175 rows × 16 columns</p>\n",
       "</div>"
      ],
      "text/plain": [
       "         tourney_name surface  winner_id        winner_name  winner_seed  \\\n",
       "0     India Masters 1    Clay     102012  Martijn Belgraver          0.0   \n",
       "1     India Masters 1    Clay     101810        Asif Ismail          0.0   \n",
       "2     India Masters 1    Clay     102407     Rainer Gunther          0.0   \n",
       "3     India Masters 1    Clay     102213     Jong Sam Chung          0.0   \n",
       "4     India Masters 1    Clay     102276    Sandeep Kirtane          0.0   \n",
       "...               ...     ...        ...                ...          ...   \n",
       "3329       Dusseldorf    Clay     102374      Alex Corretja          0.0   \n",
       "3330       Dusseldorf    Clay     102845        Carlos Moya          0.0   \n",
       "3331       Dusseldorf    Clay     102358     Thomas Enqvist          0.0   \n",
       "3332       Dusseldorf    Clay     103017     Nicolas Kiefer          0.0   \n",
       "3333       Dusseldorf    Clay     103163         Tommy Haas          0.0   \n",
       "\n",
       "      winner_rank winner_hand  w_ace  winner_age  loser_id        loser_name  \\\n",
       "0           673.0           R  999.0          23    102535       Harold Jans   \n",
       "1           973.0           R  999.0          24    102165   Srinath Prahlad   \n",
       "2           922.0           R  999.0          20    101884       Frank Ofori   \n",
       "3           736.0           R  999.0          22    102316   Jong Woong Yoon   \n",
       "4          1021.0           R  999.0          21    101904     Chris Haggard   \n",
       "...           ...         ...    ...         ...       ...               ...   \n",
       "3329          6.0           R  999.0          25    103017    Nicolas Kiefer   \n",
       "3330          4.0           R  999.0          23    103163        Tommy Haas   \n",
       "3331         17.0           R  999.0          25    103163        Tommy Haas   \n",
       "3332         21.0           R  999.0          22    102563  Thomas Johansson   \n",
       "3333         19.0           R  999.0          21    102450        Tim Henman   \n",
       "\n",
       "      loser_rank  loser_seed loser_hand  l_ace  year  \n",
       "0         1197.0         0.0          R  999.0  1995  \n",
       "1         1198.0         0.0          R  999.0  1995  \n",
       "2          337.0         0.0          R  999.0  1995  \n",
       "3          674.0         0.0          R  999.0  1995  \n",
       "4          438.0         0.0          L  999.0  1995  \n",
       "...          ...         ...        ...    ...   ...  \n",
       "3329        21.0         0.0          R  999.0  1999  \n",
       "3330        19.0         0.0          R  999.0  1999  \n",
       "3331        19.0         0.0          R  999.0  1999  \n",
       "3332        18.0         0.0          R  999.0  1999  \n",
       "3333         7.0         0.0          R  999.0  1999  \n",
       "\n",
       "[26175 rows x 16 columns]"
      ]
     },
     "execution_count": 61,
     "metadata": {},
     "output_type": "execute_result"
    }
   ],
   "source": [
    "tennis_df_subset['winner_age'] = tennis_df_subset['winner_age'].apply(lambda x: round(x))\n",
    "tennis_df_subset"
   ]
  },
  {
   "cell_type": "markdown",
   "metadata": {},
   "source": [
    "## Exploratory Data Analysis\n",
    "\n",
    "#### After cleaning our data, we can begin exploring it. We will then visualize our data to get a better understanding."
   ]
  },
  {
   "cell_type": "code",
   "execution_count": 62,
   "metadata": {},
   "outputs": [
    {
     "name": "stdout",
     "output_type": "stream",
     "text": [
      "809\n"
     ]
    }
   ],
   "source": [
    "#How many tournaments are in the data\n",
    "tournament_names = tennis_df_subset['tourney_name'].unique()\n",
    "print(len(tournament_names))"
   ]
  },
  {
   "cell_type": "code",
   "execution_count": 63,
   "metadata": {},
   "outputs": [
    {
     "name": "stdout",
     "output_type": "stream",
     "text": [
      "AxesSubplot(0.125,0.11;0.775x0.77)\n"
     ]
    },
    {
     "data": {
      "image/png": "[encoded data removed]",
      "text/plain": [
       "<Figure size 640x480 with 1 Axes>"
      ]
     },
     "metadata": {},
     "output_type": "display_data"
    }
   ],
   "source": [
    "#What is the range of winners aces in the tournaments? Also remove values equal to 999 to not include NaN\n",
    "w_ace_range = sns.histplot(x='w_ace', bins=30, data=tennis_df_subset[-(tennis_df_subset['w_ace']==999)])\n",
    "print(w_ace_range)\n"
   ]
  },
  {
   "cell_type": "code",
   "execution_count": 64,
   "metadata": {},
   "outputs": [
    {
     "name": "stdout",
     "output_type": "stream",
     "text": [
      "AxesSubplot(0.125,0.11;0.775x0.77)\n"
     ]
    },
    {
     "data": {
      "image/png": "[encoded data removed]",
      "text/plain": [
       "<Figure size 640x480 with 1 Axes>"
      ]
     },
     "metadata": {},
     "output_type": "display_data"
    }
   ],
   "source": [
    "#What is the range of winners ages? Also remove values equal to zero\n",
    "w_age_range = sns.histplot(x='winner_age', bins=30, data=tennis_df_subset[-(tennis_df_subset['winner_age']==0)])\n",
    "print(w_age_range)"
   ]
  },
  {
   "cell_type": "markdown",
   "metadata": {},
   "source": [
    "#### Who has the most wins over the timeframe and how many?"
   ]
  },
  {
   "cell_type": "code",
   "execution_count": 65,
   "metadata": {},
   "outputs": [
    {
     "name": "stdout",
     "output_type": "stream",
     "text": [
      "Yevgeny Kafelnikov has 255 wins.\n",
      "0    80\n",
      "1    55\n",
      "2    58\n",
      "3    62\n",
      "Name: winner_name, dtype: int64\n"
     ]
    },
    {
     "data": {
      "text/plain": [
       "<AxesSubplot: title={'center': 'Wins by Yevgeny Kafelnikov over the years'}, xlabel='year', ylabel='wins'>"
      ]
     },
     "execution_count": 65,
     "metadata": {},
     "output_type": "execute_result"
    },
    {
     "data": {
      "image/png": "[encoded data removed]",
      "text/plain": [
       "<Figure size 640x480 with 1 Axes>"
      ]
     },
     "metadata": {},
     "output_type": "display_data"
    }
   ],
   "source": [
    "#Most wins by a player over the timeframe\n",
    "most_wins = str(tennis_df_subset['winner_name'].value_counts().max())\n",
    "player_most_wins = tennis_df_subset['winner_name'].value_counts().index.tolist()[0]\n",
    "print(str(player_most_wins) + ' has ' + str(most_wins) + ' wins.')\n",
    "\n",
    "#Wins by that player over time\n",
    "player = tennis_df_subset.loc[tennis_df_subset['winner_name']==tennis_df_subset['winner_name'].value_counts().index.tolist()[0]]\n",
    "\n",
    "player_wins = player.groupby(by='year', as_index=False).count()\n",
    "print(player_wins['winner_name'])\n",
    "\n",
    "player_wins_chart = sns.barplot(x='year', y='winner_id', data=player_wins, palette='crest')\n",
    "player_wins_chart.bar_label(player_wins_chart.containers[0])\n",
    "player_wins_chart.set_ylabel('wins')\n",
    "player_wins_chart.set_title('Wins by ' + player_most_wins + ' over the years')\n",
    "player_wins_chart\n"
   ]
  },
  {
   "cell_type": "markdown",
   "metadata": {},
   "source": [
    "#### Who has the most aces and how many?"
   ]
  },
  {
   "cell_type": "code",
   "execution_count": null,
   "metadata": {},
   "outputs": [],
   "source": []
  },
  {
   "cell_type": "markdown",
   "metadata": {},
   "source": [
    "## Feature Engineering\n",
    "\n",
    "#### Look for any feature engineering opportunities to build on the existing data"
   ]
  },
  {
   "cell_type": "markdown",
   "metadata": {},
   "source": [
    "#### Combine winner and loser aces to create total ace"
   ]
  },
  {
   "cell_type": "code",
   "execution_count": 68,
   "metadata": {},
   "outputs": [
    {
     "data": {
      "text/plain": [
       "<AxesSubplot: xlabel='total_ace', ylabel='Count'>"
      ]
     },
     "execution_count": 68,
     "metadata": {},
     "output_type": "execute_result"
    },
    {
     "data": {
      "image/png": "[encoded data removed]",
      "text/plain": [
       "<Figure size 640x480 with 1 Axes>"
      ]
     },
     "metadata": {},
     "output_type": "display_data"
    }
   ],
   "source": [
    "tennis_df_subset['total_ace'] = tennis_df_subset['w_ace'] + tennis_df_subset['l_ace']\n",
    "\n",
    "#View the histogram of total aces and remove the NaN replacement values which equaled 1998\n",
    "total_ace_hist = sns.histplot(x='total_ace', bins=30, data=tennis_df_subset[-(tennis_df_subset['total_ace']==1998)])\n",
    "total_ace_hist"
   ]
  },
  {
   "cell_type": "markdown",
   "metadata": {},
   "source": [
    "## Linear Regression\n",
    "\n",
    "#### Since we have completed our EDA, we will begin looking at linear regression models. To develop a model helping find player attributes that contribute or impede player performance, we will explore linear regression. To beign, let's start with simple linear regression. Our outcome variable will be a win for the match. Using that as our target variable, we will look at how strongly correlated other variables are to producing that outcome."
   ]
  },
  {
   "cell_type": "markdown",
   "metadata": {},
   "source": [
    "#### Diagnostic plots\n",
    "\n",
    "#### To begin, we need to create some diagnostic plots to determine if linear regression is a good choice for our analysis. One parameter to check is normality. We can do this with both the qq plot and Shapiro-Wilks test."
   ]
  },
  {
   "cell_type": "code",
   "execution_count": 69,
   "metadata": {},
   "outputs": [
    {
     "data": {
      "image/png": "[encoded data removed]",
      "text/plain": [
       "<Figure size 640x480 with 1 Axes>"
      ]
     },
     "execution_count": 69,
     "metadata": {},
     "output_type": "execute_result"
    },
    {
     "data": {
      "image/png": "[encoded data removed]",
      "text/plain": [
       "<Figure size 640x480 with 1 Axes>"
      ]
     },
     "metadata": {},
     "output_type": "display_data"
    }
   ],
   "source": [
    "#Test for normality using qq plot\n",
    "\n",
    "mask = tennis_df_subset['total_ace'].isin([1998])\n",
    "tennis_df_regression = tennis_df_subset[~mask]\n",
    "\n",
    "sm.qqplot(data=tennis_df_regression['total_ace'], line='45')"
   ]
  },
  {
   "cell_type": "code",
   "execution_count": 70,
   "metadata": {},
   "outputs": [
    {
     "data": {
      "text/plain": [
       "ShapiroResult(statistic=0.8948800563812256, pvalue=5.120678539212075e-18)"
      ]
     },
     "execution_count": 70,
     "metadata": {},
     "output_type": "execute_result"
    }
   ],
   "source": [
    "#Test for normality using Shapiro-Wilks test\n",
    "\n",
    "scipy.stats.shapiro(tennis_df_regression['total_ace'].sample(n=500))\n"
   ]
  },
  {
   "cell_type": "markdown",
   "metadata": {},
   "source": [
    "#### Build regression model\n",
    "\n",
    "#### Build a few models to look at correlations"
   ]
  },
  {
   "cell_type": "code",
   "execution_count": 71,
   "metadata": {},
   "outputs": [
    {
     "data": {
      "text/html": [
       "<table class=\"simpletable\">\n",
       "<caption>OLS Regression Results</caption>\n",
       "<tr>\n",
       "  <th>Dep. Variable:</th>        <td>total_ace</td>    <th>  R-squared:         </th>  <td>   0.040</td>  \n",
       "</tr>\n",
       "<tr>\n",
       "  <th>Model:</th>                   <td>OLS</td>       <th>  Adj. R-squared:    </th>  <td>   0.039</td>  \n",
       "</tr>\n",
       "<tr>\n",
       "  <th>Method:</th>             <td>Least Squares</td>  <th>  F-statistic:       </th>  <td>   624.1</td>  \n",
       "</tr>\n",
       "<tr>\n",
       "  <th>Date:</th>             <td>Sat, 05 Nov 2022</td> <th>  Prob (F-statistic):</th>   <td>  0.00</td>   \n",
       "</tr>\n",
       "<tr>\n",
       "  <th>Time:</th>                 <td>16:14:50</td>     <th>  Log-Likelihood:    </th> <td>-1.5576e+05</td>\n",
       "</tr>\n",
       "<tr>\n",
       "  <th>No. Observations:</th>      <td> 45499</td>      <th>  AIC:               </th>  <td>3.115e+05</td> \n",
       "</tr>\n",
       "<tr>\n",
       "  <th>Df Residuals:</th>          <td> 45495</td>      <th>  BIC:               </th>  <td>3.116e+05</td> \n",
       "</tr>\n",
       "<tr>\n",
       "  <th>Df Model:</th>              <td>     3</td>      <th>                     </th>      <td> </td>     \n",
       "</tr>\n",
       "<tr>\n",
       "  <th>Covariance Type:</th>      <td>nonrobust</td>    <th>                     </th>      <td> </td>     \n",
       "</tr>\n",
       "</table>\n",
       "<table class=\"simpletable\">\n",
       "<tr>\n",
       "     <td></td>       <th>coef</th>     <th>std err</th>      <th>t</th>      <th>P>|t|</th>  <th>[0.025</th>    <th>0.975]</th>  \n",
       "</tr>\n",
       "<tr>\n",
       "  <th>Carpet</th> <td>   13.1511</td> <td>    0.101</td> <td>  130.270</td> <td> 0.000</td> <td>   12.953</td> <td>   13.349</td>\n",
       "</tr>\n",
       "<tr>\n",
       "  <th>Clay</th>   <td>    9.0893</td> <td>    0.059</td> <td>  155.285</td> <td> 0.000</td> <td>    8.975</td> <td>    9.204</td>\n",
       "</tr>\n",
       "<tr>\n",
       "  <th>Grass</th>  <td>   12.9699</td> <td>    0.111</td> <td>  117.033</td> <td> 0.000</td> <td>   12.753</td> <td>   13.187</td>\n",
       "</tr>\n",
       "<tr>\n",
       "  <th>Hard</th>   <td>   11.3433</td> <td>    0.053</td> <td>  213.545</td> <td> 0.000</td> <td>   11.239</td> <td>   11.447</td>\n",
       "</tr>\n",
       "</table>\n",
       "<table class=\"simpletable\">\n",
       "<tr>\n",
       "  <th>Omnibus:</th>       <td>13304.714</td> <th>  Durbin-Watson:     </th> <td>   0.596</td> \n",
       "</tr>\n",
       "<tr>\n",
       "  <th>Prob(Omnibus):</th>  <td> 0.000</td>   <th>  Jarque-Bera (JB):  </th> <td>44887.071</td>\n",
       "</tr>\n",
       "<tr>\n",
       "  <th>Skew:</th>           <td> 1.474</td>   <th>  Prob(JB):          </th> <td>    0.00</td> \n",
       "</tr>\n",
       "<tr>\n",
       "  <th>Kurtosis:</th>       <td> 6.871</td>   <th>  Cond. No.          </th> <td>    2.09</td> \n",
       "</tr>\n",
       "</table><br/><br/>Notes:<br/>[1] Standard Errors assume that the covariance matrix of the errors is correctly specified."
      ],
      "text/plain": [
       "<class 'statsmodels.iolib.summary.Summary'>\n",
       "\"\"\"\n",
       "                            OLS Regression Results                            \n",
       "==============================================================================\n",
       "Dep. Variable:              total_ace   R-squared:                       0.040\n",
       "Model:                            OLS   Adj. R-squared:                  0.039\n",
       "Method:                 Least Squares   F-statistic:                     624.1\n",
       "Date:                Sat, 05 Nov 2022   Prob (F-statistic):               0.00\n",
       "Time:                        16:14:50   Log-Likelihood:            -1.5576e+05\n",
       "No. Observations:               45499   AIC:                         3.115e+05\n",
       "Df Residuals:                   45495   BIC:                         3.116e+05\n",
       "Df Model:                           3                                         \n",
       "Covariance Type:            nonrobust                                         \n",
       "==============================================================================\n",
       "                 coef    std err          t      P>|t|      [0.025      0.975]\n",
       "------------------------------------------------------------------------------\n",
       "Carpet        13.1511      0.101    130.270      0.000      12.953      13.349\n",
       "Clay           9.0893      0.059    155.285      0.000       8.975       9.204\n",
       "Grass         12.9699      0.111    117.033      0.000      12.753      13.187\n",
       "Hard          11.3433      0.053    213.545      0.000      11.239      11.447\n",
       "==============================================================================\n",
       "Omnibus:                    13304.714   Durbin-Watson:                   0.596\n",
       "Prob(Omnibus):                  0.000   Jarque-Bera (JB):            44887.071\n",
       "Skew:                           1.474   Prob(JB):                         0.00\n",
       "Kurtosis:                       6.871   Cond. No.                         2.09\n",
       "==============================================================================\n",
       "\n",
       "Notes:\n",
       "[1] Standard Errors assume that the covariance matrix of the errors is correctly specified.\n",
       "\"\"\""
      ]
     },
     "execution_count": 71,
     "metadata": {},
     "output_type": "execute_result"
    }
   ],
   "source": [
    "#Build a simple linear regression model using OLS regression model for surface types\n",
    "\n",
    "#Convert surface types to numbers first\n",
    "surface_numbers = pd.get_dummies(tennis_df_regression['surface'])\n",
    "tennis_df_regression = tennis_df_regression.join(surface_numbers)\n",
    "\n",
    "#Create OLS regression model\n",
    "x = tennis_df_regression.iloc[:, 17:21]\n",
    "y = tennis_df_regression['total_ace']\n",
    "\n",
    "lm_1 = sm.OLS(y, x)\n",
    "lm_1_fit = lm_1.fit()\n",
    "lm_1_fit.summary()\n"
   ]
  },
  {
   "cell_type": "markdown",
   "metadata": {},
   "source": [
    "#### Based on the model above, we have a very low R^2 at just 0.008. This shows that there is no correlation between winner's aces and the surface type."
   ]
  },
  {
   "cell_type": "code",
   "execution_count": 72,
   "metadata": {},
   "outputs": [
    {
     "data": {
      "text/html": [
       "<table class=\"simpletable\">\n",
       "<caption>OLS Regression Results</caption>\n",
       "<tr>\n",
       "  <th>Dep. Variable:</th>        <td>total_ace</td>    <th>  R-squared (uncentered):</th>       <td>   0.238</td>  \n",
       "</tr>\n",
       "<tr>\n",
       "  <th>Model:</th>                   <td>OLS</td>       <th>  Adj. R-squared (uncentered):</th>  <td>   0.238</td>  \n",
       "</tr>\n",
       "<tr>\n",
       "  <th>Method:</th>             <td>Least Squares</td>  <th>  F-statistic:       </th>           <td>1.424e+04</td> \n",
       "</tr>\n",
       "<tr>\n",
       "  <th>Date:</th>             <td>Sat, 05 Nov 2022</td> <th>  Prob (F-statistic):</th>            <td>  0.00</td>   \n",
       "</tr>\n",
       "<tr>\n",
       "  <th>Time:</th>                 <td>16:15:15</td>     <th>  Log-Likelihood:    </th>          <td>-1.7608e+05</td>\n",
       "</tr>\n",
       "<tr>\n",
       "  <th>No. Observations:</th>      <td> 45499</td>      <th>  AIC:               </th>           <td>3.522e+05</td> \n",
       "</tr>\n",
       "<tr>\n",
       "  <th>Df Residuals:</th>          <td> 45498</td>      <th>  BIC:               </th>           <td>3.522e+05</td> \n",
       "</tr>\n",
       "<tr>\n",
       "  <th>Df Model:</th>              <td>     1</td>      <th>                     </th>               <td> </td>     \n",
       "</tr>\n",
       "<tr>\n",
       "  <th>Covariance Type:</th>      <td>nonrobust</td>    <th>                     </th>               <td> </td>     \n",
       "</tr>\n",
       "</table>\n",
       "<table class=\"simpletable\">\n",
       "<tr>\n",
       "       <td></td>          <th>coef</th>     <th>std err</th>      <th>t</th>      <th>P>|t|</th>  <th>[0.025</th>    <th>0.975]</th>  \n",
       "</tr>\n",
       "<tr>\n",
       "  <th>winner_rank</th> <td>    0.0631</td> <td>    0.001</td> <td>  119.316</td> <td> 0.000</td> <td>    0.062</td> <td>    0.064</td>\n",
       "</tr>\n",
       "</table>\n",
       "<table class=\"simpletable\">\n",
       "<tr>\n",
       "  <th>Omnibus:</th>       <td>5234.860</td> <th>  Durbin-Watson:     </th> <td>   0.347</td> \n",
       "</tr>\n",
       "<tr>\n",
       "  <th>Prob(Omnibus):</th>  <td> 0.000</td>  <th>  Jarque-Bera (JB):  </th> <td>50017.731</td>\n",
       "</tr>\n",
       "<tr>\n",
       "  <th>Skew:</th>           <td> 0.141</td>  <th>  Prob(JB):          </th> <td>    0.00</td> \n",
       "</tr>\n",
       "<tr>\n",
       "  <th>Kurtosis:</th>       <td> 8.129</td>  <th>  Cond. No.          </th> <td>    1.00</td> \n",
       "</tr>\n",
       "</table><br/><br/>Notes:<br/>[1] R² is computed without centering (uncentered) since the model does not contain a constant.<br/>[2] Standard Errors assume that the covariance matrix of the errors is correctly specified."
      ],
      "text/plain": [
       "<class 'statsmodels.iolib.summary.Summary'>\n",
       "\"\"\"\n",
       "                                 OLS Regression Results                                \n",
       "=======================================================================================\n",
       "Dep. Variable:              total_ace   R-squared (uncentered):                   0.238\n",
       "Model:                            OLS   Adj. R-squared (uncentered):              0.238\n",
       "Method:                 Least Squares   F-statistic:                          1.424e+04\n",
       "Date:                Sat, 05 Nov 2022   Prob (F-statistic):                        0.00\n",
       "Time:                        16:15:15   Log-Likelihood:                     -1.7608e+05\n",
       "No. Observations:               45499   AIC:                                  3.522e+05\n",
       "Df Residuals:                   45498   BIC:                                  3.522e+05\n",
       "Df Model:                           1                                                  \n",
       "Covariance Type:            nonrobust                                                  \n",
       "===============================================================================\n",
       "                  coef    std err          t      P>|t|      [0.025      0.975]\n",
       "-------------------------------------------------------------------------------\n",
       "winner_rank     0.0631      0.001    119.316      0.000       0.062       0.064\n",
       "==============================================================================\n",
       "Omnibus:                     5234.860   Durbin-Watson:                   0.347\n",
       "Prob(Omnibus):                  0.000   Jarque-Bera (JB):            50017.731\n",
       "Skew:                           0.141   Prob(JB):                         0.00\n",
       "Kurtosis:                       8.129   Cond. No.                         1.00\n",
       "==============================================================================\n",
       "\n",
       "Notes:\n",
       "[1] R² is computed without centering (uncentered) since the model does not contain a constant.\n",
       "[2] Standard Errors assume that the covariance matrix of the errors is correctly specified.\n",
       "\"\"\""
      ]
     },
     "execution_count": 72,
     "metadata": {},
     "output_type": "execute_result"
    }
   ],
   "source": [
    "# OLS model with winner rank and winner aces\n",
    "\n",
    "#Create OLS regression model\n",
    "x = tennis_df_regression['winner_rank']\n",
    "y = tennis_df_regression['total_ace']\n",
    "\n",
    "lm_2 = sm.OLS(y, x)\n",
    "lm_2_fit = lm_2.fit()\n",
    "lm_2_fit.summary()"
   ]
  },
  {
   "cell_type": "code",
   "execution_count": 74,
   "metadata": {},
   "outputs": [
    {
     "data": {
      "text/plain": [
       "<AxesSubplot: xlabel='winner_rank', ylabel='total_ace'>"
      ]
     },
     "execution_count": 74,
     "metadata": {},
     "output_type": "execute_result"
    },
    {
     "data": {
      "image/png": "[encoded data removed]",
      "text/plain": [
       "<Figure size 640x480 with 1 Axes>"
      ]
     },
     "metadata": {},
     "output_type": "display_data"
    }
   ],
   "source": [
    "#Residuals Plot for winner rank and ace\n",
    "\n",
    "sns.residplot(x='winner_rank', y='total_ace', data=tennis_df_subset)"
   ]
  },
  {
   "cell_type": "code",
   "execution_count": 75,
   "metadata": {},
   "outputs": [
    {
     "data": {
      "text/plain": [
       "<AxesSubplot: >"
      ]
     },
     "execution_count": 75,
     "metadata": {},
     "output_type": "execute_result"
    },
    {
     "data": {
      "image/png": "[encoded data removed]",
      "text/plain": [
       "<Figure size 640x480 with 1 Axes>"
      ]
     },
     "metadata": {},
     "output_type": "display_data"
    }
   ],
   "source": [
    "#Residuals vs. Leverage Plot for winners rank\n",
    "\n",
    "#get the influence, leverage, and residual values\n",
    "lm_2_infl = lm_2_fit.get_influence()\n",
    "lm_2_lev = lm_2_infl.hat_matrix_diag\n",
    "lm_2_resid = lm_2_fit.resid\n",
    "\n",
    "#Plot the results\n",
    "sns.scatterplot(x=lm_2_lev, y=lm_2_resid)"
   ]
  },
  {
   "cell_type": "code",
   "execution_count": null,
   "metadata": {},
   "outputs": [],
   "source": [
    "# Ridge regression"
   ]
  },
  {
   "cell_type": "markdown",
   "metadata": {},
   "source": [
    "## Conclusion\n",
    "\n",
    "#### Findings"
   ]
  },
  {
   "cell_type": "markdown",
   "metadata": {},
   "source": [
    "## Next Steps\n",
    "\n",
    "#### Any follow on analysis that could be performed"
   ]
  },
  {
   "cell_type": "markdown",
   "metadata": {},
   "source": [
    "## References\n",
    "\n",
    "#### Tennis databases, files, and algorithms by Jeff Sackmann / Tennis Abstract is licensed under a Creative Commons Attribution-NonCommercial-ShareAlike 4.0 International License.\n",
    "#### Based on a work at https://github.com/JeffSackmann."
   ]
  }
 ],
 "metadata": {
  "kernelspec": {
   "display_name": "Python 3.10.2 ('venv': venv)",
   "language": "python",
   "name": "python3"
  },
  "language_info": {
   "codemirror_mode": {
    "name": "ipython",
    "version": 3
   },
   "file_extension": ".py",
   "mimetype": "text/x-python",
   "name": "python",
   "nbconvert_exporter": "python",
   "pygments_lexer": "ipython3",
   "version": "3.10.2"
  },
  "orig_nbformat": 4,
  "vscode": {
   "interpreter": {
    "hash": "7c4da04f180b912bf7a64422c9443f071b5caede2a0311bf4f8b8871100dfad2"
   }
  }
 },
 "nbformat": 4,
 "nbformat_minor": 2
}
