{
 "cells": [
  {
   "cell_type": "markdown",
   "metadata": {},
   "source": [
    "# Exploring Tennis Attributes and Tournament Outcomes"
   ]
  },
  {
   "cell_type": "markdown",
   "metadata": {},
   "source": [
    "#### Authors: A.J. Madison, Robert Silber, and Spencer Tillman\n",
    "\n",
    "#### Overview: This project is exploring the attributes of tennis players and how they placed in various tournaments throughout their career."
   ]
  },
  {
   "cell_type": "markdown",
   "metadata": {},
   "source": [
    "## Literature Review\n",
    "\n",
    "#### Literature review"
   ]
  },
  {
   "cell_type": "markdown",
   "metadata": {},
   "source": [
    "## Project Background\n",
    "\n",
    "#### Information about purpose of the project"
   ]
  },
  {
   "cell_type": "markdown",
   "metadata": {},
   "source": [
    "## Environment Setup and Data Gathering\n",
    "\n"
   ]
  },
  {
   "cell_type": "code",
   "execution_count": null,
   "metadata": {},
   "outputs": [],
   "source": [
    "#If needed, get requirements.txt file for all required packages\n",
    "\n",
    "#!curl -0 https://raw.githubusercontent.com/spencer130/COMP4447_FinalProject/main/requirements.txt?token=GHSAT0AAAAAABY4YJJYIHTJ3OVAL4ADFD4KY22WJUA\n",
    "#!pip install -r requirements.txt"
   ]
  },
  {
   "cell_type": "code",
   "execution_count": 3,
   "metadata": {},
   "outputs": [],
   "source": [
    "#Import python packages\n",
    "\n",
    "import pandas as pd\n",
    "import numpy as np\n",
    "import matplotlib.pyplot as plt\n",
    "import seaborn as sns\n",
    "import sklearn\n",
    "import statsmodels.api as sm\n"
   ]
  },
  {
   "cell_type": "markdown",
   "metadata": {},
   "source": [
    "#### Next, we will be importing our data from a GitHub repository where csv files are created showing ATP tournament data annually. We will import this data directly into a pandas data frame.\n",
    "\n"
   ]
  },
  {
   "cell_type": "code",
   "execution_count": null,
   "metadata": {},
   "outputs": [],
   "source": [
    "#Retrieve data from github\n",
    "\n",
    "url_1 = 'https://raw.githubusercontent.com/JeffSackmann/tennis_atp/master/atp_matches_futures_1995.csv'\n",
    "url_2 = 'https://raw.githubusercontent.com/JeffSackmann/tennis_atp/master/atp_matches_1996.csv'\n",
    "url_3 = 'https://raw.githubusercontent.com/JeffSackmann/tennis_atp/master/atp_matches_1997.csv'\n",
    "url_4 = 'https://raw.githubusercontent.com/JeffSackmann/tennis_atp/master/atp_matches_1998.csv'\n",
    "url_5 = 'https://raw.githubusercontent.com/JeffSackmann/tennis_atp/master/atp_matches_1999.csv'\n",
    "\n",
    "tennis_1 = pd.read_csv(url_1)\n",
    "tennis_2 = pd.read_csv(url_2)\n",
    "tennis_3 = pd.read_csv(url_3)\n",
    "tennis_4 = pd.read_csv(url_4)\n",
    "tennis_5 = pd.read_csv(url_5)\n",
    "\n",
    "#Combine the data across multiple years into one data frame and add a year column\n",
    "tennis_df = pd.concat([tennis_1, tennis_2, tennis_3, tennis_4, tennis_5], join='inner')\n",
    "tennis_df['year'] = [x[:4] for x in tennis_df['tourney_id']]\n",
    "\n",
    "tennis_df.sample(10)"
   ]
  },
  {
   "cell_type": "markdown",
   "metadata": {},
   "source": [
    "## Data Cleaning\n",
    "\n",
    "#### There is a lot of data in each csv file. To begin, we will clean the data and put it into a format that is more useful for our analysis. This is necessary before we start exploring the data.\n",
    "\n",
    "#### We will start by subsetting the data to columns that will be used in the analysis. The columns we need are:\n",
    "* tourney_name: this gives us the name of the tournament\n",
    "* winner_id: this shows who won the match\n",
    "* winner_seed: this shows where the player ranked in the current tournament"
   ]
  },
  {
   "cell_type": "code",
   "execution_count": null,
   "metadata": {},
   "outputs": [],
   "source": [
    "#Subset the data\n",
    "\n",
    "tennis_df_subset = tennis_df[['tourney_name', 'surface', 'winner_id', 'winner_name', 'winner_seed', 'winner_rank', 'winner_hand', 'w_ace', 'loser_id', 'loser_name', 'loser_rank', 'loser_seed', 'loser_hand', 'year']].copy()\n",
    "tennis_df_subset.sample(10)"
   ]
  },
  {
   "cell_type": "markdown",
   "metadata": {},
   "source": [
    "#### Next, we need to find and address all null values in the data. To do so, we begin with finding how many there are in the data set."
   ]
  },
  {
   "cell_type": "code",
   "execution_count": null,
   "metadata": {},
   "outputs": [],
   "source": [
    "#Count null values\n",
    "tennis_df_subset.isna().sum()"
   ]
  },
  {
   "cell_type": "markdown",
   "metadata": {},
   "source": [
    "#### We have null values in our winner seed and winner rank columns. In this instance, a null value is no rank. We will replace these nulls with zeroes to show that they do not have a rank."
   ]
  },
  {
   "cell_type": "code",
   "execution_count": null,
   "metadata": {},
   "outputs": [],
   "source": [
    "#Replace null values with zero\n",
    "tennis_df_subset['winner_seed'] = tennis_df_subset['winner_seed'].fillna(0)\n",
    "tennis_df_subset['winner_rank'] = tennis_df_subset['winner_rank'].fillna(0)\n",
    "tennis_df_subset['loser_rank'] = tennis_df_subset['loser_rank'].fillna(0)\n",
    "tennis_df_subset['loser_seed'] = tennis_df_subset['loser_seed'].fillna(0)\n",
    "tennis_df_subset.isna().sum()"
   ]
  },
  {
   "cell_type": "markdown",
   "metadata": {},
   "source": [
    "####  Now that we have our data subsetted and null values are addressed, we need to check our data types to make sure they are in the correct format."
   ]
  },
  {
   "cell_type": "code",
   "execution_count": null,
   "metadata": {},
   "outputs": [],
   "source": [
    "#Check the data types\n",
    "\n",
    "tennis_df_subset.dtypes"
   ]
  },
  {
   "cell_type": "markdown",
   "metadata": {},
   "source": [
    "#### Most of the data types seem good. However, our year should be changed to datetime. We can change the data types to be more accurate."
   ]
  },
  {
   "cell_type": "code",
   "execution_count": null,
   "metadata": {},
   "outputs": [],
   "source": [
    "tennis_df_subset['year'] = pd.to_numeric(tennis_df_subset['year'])\n",
    "tennis_df_subset.dtypes"
   ]
  },
  {
   "cell_type": "markdown",
   "metadata": {},
   "source": [
    "## Exploratory Data Analysis\n",
    "\n",
    "#### After cleaning our data, we can begin exploring it. We will then visualize our data to get a better understanding."
   ]
  },
  {
   "cell_type": "code",
   "execution_count": 9,
   "metadata": {},
   "outputs": [
    {
     "name": "stdout",
     "output_type": "stream",
     "text": [
      "809\n"
     ]
    }
   ],
   "source": [
    "#How many tournaments are in the data\n",
    "tournament_names = tennis_df_subset['tourney_name'].unique()\n",
    "print(len(tournament_names))\n",
    "\n",
    "#What is the range of ranks in the tournaments?\n",
    "\n",
    "\n",
    "\n",
    "\n",
    "\n"
   ]
  },
  {
   "cell_type": "markdown",
   "metadata": {},
   "source": [
    "#### Who has the most wins over the timeframe and how many?"
   ]
  },
  {
   "cell_type": "code",
   "execution_count": null,
   "metadata": {},
   "outputs": [],
   "source": [
    "#Most wins by a player over the timeframe\n",
    "most_wins = str(tennis_df_subset['winner_name'].value_counts().max())\n",
    "player_most_wins = tennis_df_subset['winner_name'].value_counts().index.tolist()[0]\n",
    "print(str(player_most_wins) + ' has ' + str(most_wins) + ' wins.')\n",
    "\n",
    "#Wins by that player over time\n",
    "player = tennis_df_subset.loc[tennis_df_subset['winner_name']==tennis_df_subset['winner_name'].value_counts().index.tolist()[0]]\n",
    "\n",
    "player_wins = player.groupby(by='year', as_index=False).count()\n",
    "print(player_wins['winner_name'])\n",
    "\n",
    "player_wins_chart = sns.barplot(x='year', y='winner_id', data=player_wins, palette='crest')\n",
    "player_wins_chart.bar_label(player_wins_chart.containers[0])\n",
    "player_wins_chart.set_ylabel('wins')\n",
    "player_wins_chart.set_title('Wins by ' + player_most_wins + ' over the years')\n",
    "player_wins_chart\n",
    "#tennis_df_subset['winner_id'].value_counts().index.tolist()[0]\n",
    "\n",
    "\n",
    "\n",
    "#tennis_df_subset.pivot(index='tourney_name', columns='winner_id', values=)"
   ]
  },
  {
   "cell_type": "markdown",
   "metadata": {},
   "source": [
    "## Feature Engineering\n",
    "\n",
    "#### Look for any feature engineering opportunities to build on the existing data"
   ]
  },
  {
   "cell_type": "code",
   "execution_count": null,
   "metadata": {},
   "outputs": [],
   "source": [
    "#Biggest upsets by rank\n",
    "differences = []\n",
    "\n",
    "for row in tennis_df_subset:\n",
    "    diff = tennis_df_subset['winner_rank'] - tennis_df_subset['loser_rank']\n",
    "    differences.append(diff)\n",
    "sns.catplot(x='surface', y='tourney_name', kind='box', data=tennis_df_subset)"
   ]
  },
  {
   "cell_type": "code",
   "execution_count": null,
   "metadata": {},
   "outputs": [],
   "source": [
    "#Restructure data by player and aggregate stats over timeframe\n",
    "\n",
    "#Create list of all players\n",
    "from tkinter import W\n",
    "\n",
    "\n",
    "winners = tennis_df_subset['winner_name'].unique()\n",
    "losers = tennis_df_subset['loser_name'].unique()\n",
    "combined = np.concatenate([winners, losers])\n",
    "combined = np.unique(combined)\n",
    "\n",
    "#Aggregate stats per player\n",
    "stats_df = pd.DataFrame({'player': combined})\n",
    "\n",
    "#Total wins\n",
    "wins = dict(tennis_df_subset['winner_name'].value_counts())\n",
    "stats_df['wins'] = stats_df['player'].map(wins)\n",
    "\n",
    "#Total loseses\n",
    "losses = dict(tennis_df_subset['loser_name'].value_counts())\n",
    "stats_df['losses'] = stats_df['player'].map(losses)\n",
    "\n",
    "#Fill NaN values with 0\n",
    "na_fill_values = {'wins': 0, 'losses': 0}\n",
    "stats_df.fillna(value=na_fill_values, inplace=True)\n",
    "\n",
    "#Total matches played\n",
    "stats_df['matches_played'] = stats_df['wins'] + stats_df['losses']\n",
    "\n",
    "#Total aces\n",
    "win_aces = tennis_df_subset.groupby('winner_name')['w_ace'].transform('sum')\n",
    "\n",
    "#Total tournament wins\n",
    "\n",
    "\n",
    "stats_df.sample(10)"
   ]
  },
  {
   "cell_type": "markdown",
   "metadata": {},
   "source": [
    "## Linear Regression\n",
    "\n",
    "#### Since we have completed our EDA, we will begin looking at linear regression models. To develop a model helping find player attributes that contribute or impede player performance, we will explore linear regression. To beign, let's start with simple linear regression. Our outcome variable will be a win for the match. Using that as our target variable, we will look at how strongly correlated other variables are to producing that outcome."
   ]
  },
  {
   "cell_type": "markdown",
   "metadata": {},
   "source": [
    "#### Diagnostic plots\n",
    "\n",
    "#### To begin, we need to create some diagnostic plots to determine if linear regression is a good choice for our analysis. One parameter to check is normality. We can do this with both the qq plot and Shapiro-Wilks test."
   ]
  },
  {
   "cell_type": "code",
   "execution_count": null,
   "metadata": {},
   "outputs": [],
   "source": [
    "#Test for normality using qq plot\n",
    "\n",
    "sm.qqplot(data=tennis_df_subset['winner_seed'], line='45')"
   ]
  },
  {
   "cell_type": "code",
   "execution_count": null,
   "metadata": {},
   "outputs": [],
   "source": [
    "#Residuals plot\n"
   ]
  },
  {
   "cell_type": "code",
   "execution_count": null,
   "metadata": {},
   "outputs": [],
   "source": [
    "#Build a simple linear regression model\n",
    "lm_1 = sm.OLS('')\n"
   ]
  },
  {
   "cell_type": "markdown",
   "metadata": {},
   "source": [
    "## Conclusion\n",
    "\n",
    "#### Findings"
   ]
  },
  {
   "cell_type": "markdown",
   "metadata": {},
   "source": [
    "## Next Steps\n",
    "\n",
    "#### Any follow on analysis that could be performed"
   ]
  },
  {
   "cell_type": "markdown",
   "metadata": {},
   "source": [
    "## References\n",
    "\n",
    "#### Tennis databases, files, and algorithms by Jeff Sackmann / Tennis Abstract is licensed under a Creative Commons Attribution-NonCommercial-ShareAlike 4.0 International License.\n",
    "#### Based on a work at https://github.com/JeffSackmann."
   ]
  }
 ],
 "metadata": {
  "kernelspec": {
   "display_name": "Python 3.10.2 ('venv': venv)",
   "language": "python",
   "name": "python3"
  },
  "language_info": {
   "codemirror_mode": {
    "name": "ipython",
    "version": 3
   },
   "file_extension": ".py",
   "mimetype": "text/x-python",
   "name": "python",
   "nbconvert_exporter": "python",
   "pygments_lexer": "ipython3",
   "version": "3.10.2"
  },
  "orig_nbformat": 4,
  "vscode": {
   "interpreter": {
    "hash": "7c4da04f180b912bf7a64422c9443f071b5caede2a0311bf4f8b8871100dfad2"
   }
  }
 },
 "nbformat": 4,
 "nbformat_minor": 2
}
